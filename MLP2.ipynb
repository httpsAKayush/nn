{
 "cells": [
  {
   "cell_type": "code",
   "execution_count": 1,
   "id": "ba070229-3dff-405a-b366-dcd537a0812e",
   "metadata": {},
   "outputs": [],
   "source": [
    "import torch\n",
    "import torch.nn.functional as F\n",
    "import matplotlib.pyplot as plt"
   ]
  },
  {
   "cell_type": "code",
   "execution_count": 2,
   "id": "58f29753-4f48-4d36-a8b4-00f13a4533b2",
   "metadata": {},
   "outputs": [
    {
     "data": {
      "text/plain": [
       "['emma', 'olivia', 'ava', 'isabella', 'sophia', 'charlotte', 'mia', 'amelia']"
      ]
     },
     "execution_count": 2,
     "metadata": {},
     "output_type": "execute_result"
    }
   ],
   "source": [
    "# read in all the words\n",
    "words = open('names.txt', 'r').read().splitlines()\n",
    "words[:8]"
   ]
  },
  {
   "cell_type": "code",
   "execution_count": 3,
   "id": "4e41fb59-779a-4208-b278-ae44c538a2ea",
   "metadata": {},
   "outputs": [
    {
     "data": {
      "text/plain": [
       "32033"
      ]
     },
     "execution_count": 3,
     "metadata": {},
     "output_type": "execute_result"
    }
   ],
   "source": [
    "len(words)"
   ]
  },
  {
   "cell_type": "code",
   "execution_count": 40,
   "id": "8ab9896e-bea6-43df-948d-3bf821fe50fe",
   "metadata": {},
   "outputs": [
    {
     "name": "stdout",
     "output_type": "stream",
     "text": [
      "{1: 'a', 2: 'b', 3: 'c', 4: 'd', 5: 'e', 6: 'f', 7: 'g', 8: 'h', 9: 'i', 10: 'j', 11: 'k', 12: 'l', 13: 'm', 14: 'n', 15: 'o', 16: 'p', 17: 'q', 18: 'r', 19: 's', 20: 't', 21: 'u', 22: 'v', 23: 'w', 24: 'x', 25: 'y', 26: 'z', 0: '.'}\n",
      "27\n"
     ]
    }
   ],
   "source": [
    "# build the vocabulary of characters and mapping to/from integers\n",
    "# chars = \n",
    "# stoi =\n",
    "# itos =\n",
    "# vocab_size =\n",
    "\n",
    "chars = sorted(list(set(''.join(words))))\n",
    "stoi = {s:i for i,s in enumerate(chars,1)}\n",
    "stoi['.'] = 0\n",
    "itos = {i:s for s,i in stoi.items()}\n",
    "vocab_size = len(itos)\n",
    "\n",
    "\n",
    "# chars = sorted(list(set(''.join(words))))\n",
    "# stoi = {s:i+1 for i,s in enumerate(chars)}\n",
    "# stoi['.'] = 0\n",
    "# itos = {i+1:s for i,s in enumerate(chars)}\n",
    "# itos[0] = '.'\n",
    "# vocab_size = len(itos)\n",
    "\n",
    "\n",
    "print(itos)\n",
    "print(vocab_size)"
   ]
  },
  {
   "cell_type": "code",
   "execution_count": 41,
   "id": "e78111e8-1ec8-495b-90e1-cd0574d8be23",
   "metadata": {},
   "outputs": [
    {
     "name": "stdout",
     "output_type": "stream",
     "text": [
      "torch.Size([182580, 3]) torch.Size([182580])\n",
      "torch.Size([205347, 3]) torch.Size([205347])\n",
      "torch.Size([22799, 3]) torch.Size([22799])\n"
     ]
    }
   ],
   "source": [
    "# build the dataset \n",
    "block_size = 3\n",
    "\n",
    "def build_dataset(words):\n",
    "    X, Y = [], []\n",
    "\n",
    "    for w in words:\n",
    "        context = [0] * block_size\n",
    "        for ch in w + '.':\n",
    "            ix = stoi[ch]\n",
    "            X.append(context)\n",
    "            Y.append(ix)\n",
    "            context = context[1:] + [ix]\n",
    "\n",
    "    X = torch.tensor(X)\n",
    "    Y = torch.tensor(Y)\n",
    "    print(X.shape, Y.shape)\n",
    "    return X,Y\n",
    "\n",
    "\n",
    "import random\n",
    "random.seed(42)\n",
    "random.shuffle(words)\n",
    "n1 = int(0.8*len(words))\n",
    "n2 = int(0.9*len(words))\n",
    "\n",
    "Xtr, Ytr = build_dataset(words[:n1])\n",
    "Xdev, Ydev = build_dataset(words[:n2])\n",
    "Xte, Yte = build_dataset(words[n2:])"
   ]
  },
  {
   "cell_type": "code",
   "execution_count": 54,
   "id": "67f0213c-5301-43db-a16a-47cf76779008",
   "metadata": {},
   "outputs": [
    {
     "name": "stdout",
     "output_type": "stream",
     "text": [
      "11897\n"
     ]
    }
   ],
   "source": [
    "# MPL revisited\n",
    "n_embd = 10  # the dimensionality of the character embedding vector\n",
    "n_hidden = 200  # the number of neurons in the hidden layer of the MPL\n",
    "\n",
    "g  = torch.Generator().manual_seed(2147483647)  # for reproductibility\n",
    "C  = torch.randn((vocab_size, n_embd),            generator= g)\n",
    "W1 = torch.randn((n_embd * block_size, n_hidden), generator= g) * 0.2    #so that matrix multiplication for one sample becomes sum(features * weights)\n",
    "b1 = torch.randn(n_hidden,                        generator= g) * 0.01\n",
    "W2 = torch.randn((n_hidden,vocab_size),           generator= g) * 0.01   #why not 0?\n",
    "b2 = torch.randn(vocab_size,                      generator= g) * 0      #at initiallization\n",
    "\n",
    "parameters = [C, W1, b1, W2, b2]\n",
    "print(sum(p.nelement() for p in parameters))  # no. of parameters in total\n",
    "for p in parameters:\n",
    "    p.requires_grad = True"
   ]
  },
  {
   "cell_type": "code",
   "execution_count": 7,
   "id": "042da894-3645-417e-b00f-60f8bb6fb1a4",
   "metadata": {},
   "outputs": [
    {
     "data": {
      "text/plain": [
       "tensor(1.0026)"
      ]
     },
     "execution_count": 7,
     "metadata": {},
     "output_type": "execute_result"
    }
   ],
   "source": [
    "torch.randn(1000).std()"
   ]
  },
  {
   "cell_type": "code",
   "execution_count": 57,
   "id": "dc4d5e1a-18d0-429f-8235-114d93d4f240",
   "metadata": {},
   "outputs": [
    {
     "name": "stdout",
     "output_type": "stream",
     "text": [
      "tensor(-0.0115) tensor(0.9986)\n",
      "tensor(0.0011) tensor(0.9739)\n"
     ]
    },
    {
     "data": {
      "image/png": "[encoded data removed]",
      "text/plain": [
       "<Figure size 2000x500 with 2 Axes>"
      ]
     },
     "metadata": {},
     "output_type": "display_data"
    }
   ],
   "source": [
    "x = torch.randn(1000, 10)\n",
    "w = torch.randn(10, 200) / 10**0.5\n",
    "y = x @ w\n",
    "print(x.mean(), x.std())\n",
    "print(y.mean(), y.std())\n",
    "plt.figure(figsize=(20,5))\n",
    "plt.subplot(121)\n",
    "plt.hist(x.view(-1).tolist(), 50, density = True);\n",
    "plt.subplot(122)\n",
    "plt.hist(y.view(-1).tolist(), 50, density = True);"
   ]
  },
  {
   "cell_type": "code",
   "execution_count": 55,
   "id": "cfbd2114-903b-46e1-8c78-8436a2ddcb65",
   "metadata": {},
   "outputs": [
    {
     "name": "stdout",
     "output_type": "stream",
     "text": [
      "      0/ 200000: 3.3091\n",
      "  10000/ 200000: 2.4062\n",
      "  20000/ 200000: 2.2719\n",
      "  30000/ 200000: 2.0326\n",
      "  40000/ 200000: 1.9983\n",
      "  50000/ 200000: 2.4017\n",
      "  60000/ 200000: 2.2712\n",
      "  70000/ 200000: 2.0150\n",
      "  80000/ 200000: 1.9887\n",
      "  90000/ 200000: 2.0578\n",
      " 100000/ 200000: 2.4542\n",
      " 110000/ 200000: 2.1407\n",
      " 120000/ 200000: 2.0326\n",
      " 130000/ 200000: 2.3694\n",
      " 140000/ 200000: 2.1493\n",
      " 150000/ 200000: 2.3643\n",
      " 160000/ 200000: 2.0745\n",
      " 170000/ 200000: 2.0556\n",
      " 180000/ 200000: 2.1872\n",
      " 190000/ 200000: 1.8991\n"
     ]
    }
   ],
   "source": [
    "# optimization\n",
    "max_steps = 200000\n",
    "batch_size = 32\n",
    "lossi = []\n",
    "\n",
    "for i in range(max_steps):\n",
    "\n",
    "    #minibatch construct\n",
    "    ix = torch.randint(0, Xtr.shape[0], (batch_size,), generator=g)\n",
    "    Xb, Yb = Xtr[ix], Ytr[ix]  #batch X,Y\n",
    "\n",
    "    #forward pass\n",
    "    emb = C[Xb]  #embed the characters into vectors\n",
    "    embcat = emb.view(emb.shape[0], -1)  #concatenate the vetors\n",
    "    hpreact = embcat @ W1 + b1 # hidden layer pre-activation\n",
    "    h = torch.tanh(hpreact) #hidden layer\n",
    "    logits = h @ W2 + b2  #output layer\n",
    "    loss = F.cross_entropy(logits, Yb) #loss function\n",
    "\n",
    "    #backward pass\n",
    "    for p in parameters:\n",
    "        p.grad = None\n",
    "    loss.backward()\n",
    "\n",
    "    #update\n",
    "    lr = 0.1 if i < 100000 else 0.01 #step learning rate decav\n",
    "    for p in parameters:\n",
    "        p.data += -lr * p.grad\n",
    "\n",
    "    #track stats\n",
    "    if i % 10000 == 0:   #print every once in a while\n",
    "        print(f'{i:7d}/{max_steps:7d}: {loss.item():.4f}')\n",
    "    lossi.append(loss.log10().item())\n",
    "    "
   ]
  },
  {
   "cell_type": "code",
   "execution_count": 34,
   "id": "24550e73-a380-43c8-9edd-fac361816d96",
   "metadata": {},
   "outputs": [
    {
     "data": {
      "text/plain": [
       "[<matplotlib.lines.Line2D at 0x79cfab26d700>]"
      ]
     },
     "execution_count": 34,
     "metadata": {},
     "output_type": "execute_result"
    },
    {
     "data": {
      "image/png": "[encoded data removed]",
      "text/plain": [
       "<Figure size 640x480 with 1 Axes>"
      ]
     },
     "metadata": {},
     "output_type": "display_data"
    }
   ],
   "source": [
    "plt.plot(lossi)"
   ]
  },
  {
   "cell_type": "code",
   "execution_count": 44,
   "id": "919c9e90-205b-4512-a356-9395b245229b",
   "metadata": {},
   "outputs": [
    {
     "name": "stdout",
     "output_type": "stream",
     "text": [
      "train 3.255441188812256\n",
      "val 3.2554781436920166\n"
     ]
    }
   ],
   "source": [
    "@torch.no_grad()  #this decorator disables gradient tracking\n",
    "def split_loss(split):\n",
    "    x, y = {\n",
    "        'train': (Xtr, Ytr),\n",
    "        'val':   (Xdev, Ydev),\n",
    "        'test':  (Xte, Yte),\n",
    "    }[split]\n",
    "    emb = C[x]   #(samples, block_size, n_embd)\n",
    "    embcat = emb.view(emb.shape[0], -1)  #concat into (samples, block_size*n_embd)\n",
    "    h = torch.tanh(embcat @ W1 + b1)  #(samples, n_hidden)\n",
    "    logits = h @ W2 + b2  #(samples, vocab_size)\n",
    "    loss = F.cross_entropy(logits, y)\n",
    "    print(split, loss.item())\n",
    "\n",
    "split_loss('train')\n",
    "split_loss('val')"
   ]
  },
  {
   "cell_type": "code",
   "execution_count": 56,
   "id": "9c9c0fdf-58e3-454b-80a3-b810db9e9546",
   "metadata": {},
   "outputs": [
    {
     "name": "stdout",
     "output_type": "stream",
     "text": [
      "carmah.\n",
      "ambrie.\n",
      "khy.\n",
      "mili.\n",
      "tatyanna.\n",
      "sane.\n",
      "rahnie.\n",
      "delynn.\n",
      "jareei.\n",
      "ner.\n",
      "kiah.\n",
      "maiha.\n",
      "kaleigh.\n",
      "ham.\n",
      "jois.\n",
      "quint.\n",
      "sulie.\n",
      "alianni.\n",
      "wanell.\n",
      "dearynn.\n"
     ]
    }
   ],
   "source": [
    "# sample from the model\n",
    "g = torch.Generator().manual_seed(2147483647 + 10)\n",
    "\n",
    "for _ in range(20):\n",
    "\n",
    "    out = []\n",
    "    context = [0] * block_size #initialize with all ...\n",
    "    while True:\n",
    "        #forward pass the neural net\n",
    "        emb = C[torch.tensor([context])] # (1, block_size, n_embd)\n",
    "        h = torch.tanh(emb.view(1, -1) @ W1 + b1)\n",
    "        logits = h @ W2 + b2\n",
    "        probs = F.softmax(logits, dim=1)\n",
    "        #sample from the distribution\n",
    "        ix = torch.multinomial(probs, num_samples=1, generator=g).item()\n",
    "        #shift the context window and track the samples\n",
    "        context = context[1:] + [ix]\n",
    "        out.append(ix)\n",
    "        # if we sample the special '.' token, break\n",
    "        if ix == 0:\n",
    "            break\n",
    "\n",
    "    print(''.join(itos[i] for i in out))  #decode and print the generated word"
   ]
  },
  {
   "cell_type": "code",
   "execution_count": 45,
   "id": "757537c8-8b78-42fd-88a8-a6f19879b777",
   "metadata": {},
   "outputs": [
    {
     "data": {
      "text/plain": [
       "tensor([[ 0.7804,  0.8365, -0.8348,  ...,  0.0291, -0.2120, -0.9624],\n",
       "        [ 0.4169, -0.3410,  0.5206,  ..., -0.6272,  0.4202,  0.3333],\n",
       "        [-0.7192, -0.7557, -0.9463,  ...,  0.0857, -0.9332, -0.5327],\n",
       "        ...,\n",
       "        [-0.8133,  0.6107, -0.4489,  ...,  0.3138,  0.4857,  0.7836],\n",
       "        [ 0.3917, -0.6125,  0.1376,  ...,  0.1823, -0.8834,  0.2004],\n",
       "        [-0.3785, -0.6293, -0.8051,  ..., -0.5670, -0.8055, -0.0038]],\n",
       "       grad_fn=<TanhBackward0>)"
      ]
     },
     "execution_count": 45,
     "metadata": {},
     "output_type": "execute_result"
    }
   ],
   "source": [
    "h\n",
    "#so tanh what to is squeeze the data in range of -1 to 1\n",
    "#we are seeing so many values of -1 and 1\n",
    "#lets see through plt"
   ]
  },
  {
   "cell_type": "code",
   "execution_count": 46,
   "id": "109fca72-86ad-4918-8504-ba4b5ac8bbd0",
   "metadata": {},
   "outputs": [
    {
     "data": {
      "text/plain": [
       "torch.Size([32, 200])"
      ]
     },
     "execution_count": 46,
     "metadata": {},
     "output_type": "execute_result"
    }
   ],
   "source": [
    "h.shape"
   ]
  },
  {
   "cell_type": "code",
   "execution_count": 47,
   "id": "e9d11c8a-8c58-4cae-b53a-d30b10864b83",
   "metadata": {},
   "outputs": [
    {
     "data": {
      "text/plain": [
       "torch.Size([6400])"
      ]
     },
     "execution_count": 47,
     "metadata": {},
     "output_type": "execute_result"
    }
   ],
   "source": [
    "h.view(-1).shape"
   ]
  },
  {
   "cell_type": "code",
   "execution_count": 48,
   "id": "49673ed1-56e1-4b68-a296-e0fbad57c0d8",
   "metadata": {},
   "outputs": [
    {
     "data": {
      "image/png": "[encoded data removed]",
      "text/plain": [
       "<Figure size 640x480 with 1 Axes>"
      ]
     },
     "metadata": {},
     "output_type": "display_data"
    }
   ],
   "source": [
    "plt.hist(h.view(-1).tolist(), 50);\n",
    "# it is a problem because we know the graph of tanh flatterns at -1 & 1\n",
    "# also you can see from grad formula = 1-tanh**2, which makes grad = 0\n",
    "# which means it didn't backpropogate -> it stops back propogating\n",
    "# which makes the grad = 0 and never improving or learning\n",
    "# that makes the dead neurons and a permanent brain damage\n",
    "# and which mean their is is less trainnig for those neurons \n",
    "# bcz they update less frequently\n",
    "# not good specially at initiallization\n",
    "# also it is a problem of scaling and wide range\n",
    "# we found in main code -> hpreact = embcat @ W1 + b1\n",
    "# and here W1 and b1 is causing the issue\n",
    "# so we want this reactivation closer to zero\n",
    "# not exactly zero , sometimes it is improves little bit optimization\n",
    "# so that their is like a little bit variation and diversity in the original initiallization of neurons"
   ]
  },
  {
   "cell_type": "code",
   "execution_count": 49,
   "id": "bbdeb464-be7a-4751-801e-00f4ebc179a4",
   "metadata": {},
   "outputs": [
    {
     "data": {
      "image/png": "[encoded data removed]",
      "text/plain": [
       "<Figure size 640x480 with 1 Axes>"
      ]
     },
     "metadata": {},
     "output_type": "display_data"
    }
   ],
   "source": [
    "# so let see why that is\n",
    "# so we can see that the distribution of pre-activations is very very broad\n",
    "plt.hist(hpreact.view(-1).tolist(), 50);"
   ]
  },
  {
   "cell_type": "code",
   "execution_count": 50,
   "id": "d8c47f6b-ab0d-4b07-b680-a3dd26c09c99",
   "metadata": {},
   "outputs": [
    {
     "data": {
      "image/png": "[encoded data removed]",
      "text/plain": [
       "<Figure size 2000x1000 with 1 Axes>"
      ]
     },
     "metadata": {},
     "output_type": "display_data"
    }
   ],
   "source": [
    "plt.figure(figsize=(20,10))\n",
    "plt.show(plt.imshow(h.abs()>0.99, cmap='gray', interpolation='nearest'))\n",
    "# it is showing how many neurons are dead which is too many\n",
    "# white -> dead neurons"
   ]
  },
  {
   "cell_type": "code",
   "execution_count": 51,
   "id": "f1f88d31-b61e-4588-ab09-13ef8c9408a3",
   "metadata": {},
   "outputs": [
    {
     "data": {
      "text/plain": [
       "tensor([ 0.0291, -0.1128, -0.1753,  0.0240,  0.1707,  0.1312,  0.1514,  0.0158,\n",
       "         0.0836, -0.0296, -0.0365, -0.0638,  0.0394,  0.1699, -0.0622, -0.1256,\n",
       "         0.1358, -0.0296, -0.0468,  0.0853,  0.0756, -0.1396,  0.1986,  0.1421,\n",
       "        -0.0907,  0.0103, -0.2912], grad_fn=<SelectBackward0>)"
      ]
     },
     "execution_count": 51,
     "metadata": {},
     "output_type": "execute_result"
    }
   ],
   "source": [
    "logits[0]\n",
    "#range is big  #loss at initialization is much"
   ]
  },
  {
   "cell_type": "code",
   "execution_count": 52,
   "id": "a68ccd59-f38e-4826-8eeb-02a779d55a65",
   "metadata": {},
   "outputs": [
    {
     "data": {
      "text/plain": [
       "(tensor([-12.2997,   5.0991, -19.9309,   1.7618]),\n",
       " tensor([2.6831e-08, 9.6569e-01, 1.3016e-11, 3.4314e-02]),\n",
       " tensor(25.0649))"
      ]
     },
     "execution_count": 52,
     "metadata": {},
     "output_type": "execute_result"
    }
   ],
   "source": [
    "# 4-dimensional example of the issue\n",
    "#logits = torch.tensor([0.0,0.0,0.0,0.0]) normally distributed #loss-> 0.25\n",
    "# also randn is normally distributed like this \n",
    "# but what if we scale it by multiplying or adding \n",
    "# it increases the range of logit \n",
    "logits = torch.randn(4) * 10  \n",
    "# we found in main code logits = h @ W2 + b2\n",
    "# and here b2 and W2 is found out to be responsible for scaling\n",
    "# so we need to initiallize them as small as possible\n",
    "# so we should do b2 = 0 at initiallization\n",
    "# and W2 as small possible not exactly zero\n",
    "# so that the loss will come more close to normalize distribution (-torch.tensor(1/27.0).log())\n",
    "probs = torch.softmax(logits, dim=0)\n",
    "loss = -probs[2].log()\n",
    "logits, probs, loss"
   ]
  },
  {
   "cell_type": "code",
   "execution_count": 53,
   "id": "200e1b8e-db74-41d8-b767-c32b31cdd514",
   "metadata": {},
   "outputs": [
    {
     "data": {
      "text/plain": [
       "tensor(3.2958)"
      ]
     },
     "execution_count": 53,
     "metadata": {},
     "output_type": "execute_result"
    }
   ],
   "source": [
    "# at initiallizaation we expect much less loss or u can say noramlly distributed loss\n",
    "-torch.tensor(1/27.0).log()"
   ]
  },
  {
   "cell_type": "code",
   "execution_count": 22,
   "id": "5d1306f3-b009-49f7-9366-da28e4c47db3",
   "metadata": {},
   "outputs": [
    {
     "name": "stdout",
     "output_type": "stream",
     "text": [
      "module://matplotlib_inline.backend_inline\n"
     ]
    }
   ],
   "source": [
    "import matplotlib\n",
    "print(matplotlib.get_backend())"
   ]
  },
  {
   "cell_type": "code",
   "execution_count": null,
   "id": "f5db0ea3-1787-46ca-ab4d-a5025928ed0b",
   "metadata": {},
   "outputs": [],
   "source": []
  },
  {
   "cell_type": "code",
   "execution_count": null,
   "id": "e4a98cd8-a854-40da-8e57-71d1f05e61fc",
   "metadata": {},
   "outputs": [],
   "source": []
  },
  {
   "cell_type": "code",
   "execution_count": null,
   "id": "ba8f1517-f3a5-4dbd-b2ba-85e98a482bba",
   "metadata": {},
   "outputs": [],
   "source": []
  },
  {
   "cell_type": "code",
   "execution_count": null,
   "id": "8f5fb022-c301-4e31-bb3c-5780ca4472f0",
   "metadata": {},
   "outputs": [],
   "source": []
  },
  {
   "cell_type": "code",
   "execution_count": null,
   "id": "fa444ddd-21c3-477b-b3bf-6af55fe79e2d",
   "metadata": {},
   "outputs": [],
   "source": []
  }
 ],
 "metadata": {
  "kernelspec": {
   "display_name": "Python 3 (ipykernel)",
   "language": "python",
   "name": "python3"
  },
  "language_info": {
   "codemirror_mode": {
    "name": "ipython",
    "version": 3
   },
   "file_extension": ".py",
   "mimetype": "text/x-python",
   "name": "python",
   "nbconvert_exporter": "python",
   "pygments_lexer": "ipython3",
   "version": "3.12.7"
  }
 },
 "nbformat": 4,
 "nbformat_minor": 5
}

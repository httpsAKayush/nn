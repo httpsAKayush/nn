{
 "cells": [
  {
   "cell_type": "code",
   "execution_count": 1,
   "id": "ba070229-3dff-405a-b366-dcd537a0812e",
   "metadata": {},
   "outputs": [],
   "source": [
    "import torch\n",
    "import torch.nn.functional as F\n",
    "import matplotlib.pyplot as plt"
   ]
  },
  {
   "cell_type": "code",
   "execution_count": 2,
   "id": "58f29753-4f48-4d36-a8b4-00f13a4533b2",
   "metadata": {},
   "outputs": [
    {
     "data": {
      "text/plain": [
       "['emma', 'olivia', 'ava', 'isabella', 'sophia', 'charlotte', 'mia', 'amelia']"
      ]
     },
     "execution_count": 2,
     "metadata": {},
     "output_type": "execute_result"
    }
   ],
   "source": [
    "# read in all the words\n",
    "words = open('names.txt', 'r').read().splitlines()\n",
    "words[:8]"
   ]
  },
  {
   "cell_type": "code",
   "execution_count": 3,
   "id": "4e41fb59-779a-4208-b278-ae44c538a2ea",
   "metadata": {},
   "outputs": [
    {
     "data": {
      "text/plain": [
       "32033"
      ]
     },
     "execution_count": 3,
     "metadata": {},
     "output_type": "execute_result"
    }
   ],
   "source": [
    "len(words)"
   ]
  },
  {
   "cell_type": "code",
   "execution_count": 4,
   "id": "8ab9896e-bea6-43df-948d-3bf821fe50fe",
   "metadata": {},
   "outputs": [
    {
     "name": "stdout",
     "output_type": "stream",
     "text": [
      "{1: 'a', 2: 'b', 3: 'c', 4: 'd', 5: 'e', 6: 'f', 7: 'g', 8: 'h', 9: 'i', 10: 'j', 11: 'k', 12: 'l', 13: 'm', 14: 'n', 15: 'o', 16: 'p', 17: 'q', 18: 'r', 19: 's', 20: 't', 21: 'u', 22: 'v', 23: 'w', 24: 'x', 25: 'y', 26: 'z', 0: '.'}\n",
      "27\n"
     ]
    }
   ],
   "source": [
    "# build the vocabulary of characters and mapping to/from integers\n",
    "# chars = \n",
    "# stoi =\n",
    "# itos =\n",
    "# vocab_size =\n",
    "\n",
    "chars = sorted(list(set(''.join(words))))\n",
    "stoi = {s:i for i,s in enumerate(chars,1)}\n",
    "stoi['.'] = 0\n",
    "itos = {i:s for s,i in stoi.items()}\n",
    "vocab_size = len(itos)\n",
    "\n",
    "\n",
    "# chars = sorted(list(set(''.join(words))))\n",
    "# stoi = {s:i+1 for i,s in enumerate(chars)}\n",
    "# stoi['.'] = 0\n",
    "# itos = {i+1:s for i,s in enumerate(chars)}\n",
    "# itos[0] = '.'\n",
    "# vocab_size = len(itos)\n",
    "\n",
    "\n",
    "print(itos)\n",
    "print(vocab_size)"
   ]
  },
  {
   "cell_type": "code",
   "execution_count": 5,
   "id": "e78111e8-1ec8-495b-90e1-cd0574d8be23",
   "metadata": {},
   "outputs": [
    {
     "name": "stdout",
     "output_type": "stream",
     "text": [
      "torch.Size([182625, 3]) torch.Size([182625])\n",
      "torch.Size([205280, 3]) torch.Size([205280])\n",
      "torch.Size([22866, 3]) torch.Size([22866])\n"
     ]
    }
   ],
   "source": [
    "# build the dataset \n",
    "block_size = 3\n",
    "\n",
    "def build_dataset(words):\n",
    "    X, Y = [], []\n",
    "\n",
    "    for w in words:\n",
    "        context = [0] * block_size\n",
    "        for ch in w + '.':\n",
    "            ix = stoi[ch]\n",
    "            X.append(context)\n",
    "            Y.append(ix)\n",
    "            context = context[1:] + [ix]\n",
    "\n",
    "    X = torch.tensor(X)\n",
    "    Y = torch.tensor(Y)\n",
    "    print(X.shape, Y.shape)\n",
    "    return X,Y\n",
    "\n",
    "\n",
    "import random\n",
    "random.seed(42)\n",
    "random.shuffle(words)\n",
    "n1 = int(0.8*len(words))\n",
    "n2 = int(0.9*len(words))\n",
    "\n",
    "Xtr, Ytr = build_dataset(words[:n1])\n",
    "Xdev, Ydev = build_dataset(words[:n2])\n",
    "Xte, Yte = build_dataset(words[n2:])"
   ]
  },
  {
   "cell_type": "code",
   "execution_count": 49,
   "id": "67f0213c-5301-43db-a16a-47cf76779008",
   "metadata": {},
   "outputs": [
    {
     "name": "stdout",
     "output_type": "stream",
     "text": [
      "12297\n"
     ]
    }
   ],
   "source": [
    "# MPL revisited\n",
    "n_embd = 10  # the dimensionality of the character embedding vector\n",
    "n_hidden = 200  # the number of neurons in the hidden layer of the MPL\n",
    "\n",
    "g  = torch.Generator().manual_seed(2147483647)  # for reproductibility\n",
    "C  = torch.randn((vocab_size, n_embd),            generator= g)\n",
    "W1 = torch.randn((n_embd * block_size, n_hidden), generator= g) * ((5 / 3) / ( (n_embd * block_size)**0.5 ) )  #0.2    #so that matrix multiplication for one sample becomes sum(features * weights)\n",
    "#b1 = torch.randn(n_hidden,                        generator= g) * 0.01\n",
    "W2 = torch.randn((n_hidden,vocab_size),           generator= g) * 0.01   #why not 0?\n",
    "b2 = torch.randn(vocab_size,                      generator= g) * 0      #at initiallization\n",
    "\n",
    "# BatchNorm parameters\n",
    "bngain = torch.ones((1, n_hidden))\n",
    "bnbias = torch.zeros((1, n_hidden))\n",
    "#two bufferes, these are not training with back propagation \n",
    "bnmean_running = torch.zeros((1, n_hidden))\n",
    "bnstd_running = torch.ones((1, n_hidden))\n",
    "\n",
    "parameters = [C, W1, b1, W2, b2, bngain, bnbias]\n",
    "print(sum(p.nelement() for p in parameters))  # no. of parameters in total\n",
    "for p in parameters:\n",
    "    p.requires_grad = True"
   ]
  },
  {
   "cell_type": "code",
   "execution_count": 7,
   "id": "042da894-3645-417e-b00f-60f8bb6fb1a4",
   "metadata": {},
   "outputs": [
    {
     "data": {
      "text/plain": [
       "tensor(1.0240)"
      ]
     },
     "execution_count": 7,
     "metadata": {},
     "output_type": "execute_result"
    }
   ],
   "source": [
    "torch.randn(1000).std()"
   ]
  },
  {
   "cell_type": "code",
   "execution_count": 8,
   "id": "dc4d5e1a-18d0-429f-8235-114d93d4f240",
   "metadata": {},
   "outputs": [
    {
     "name": "stdout",
     "output_type": "stream",
     "text": [
      "tensor(0.0003) tensor(0.9933)\n",
      "tensor(0.0015) tensor(0.9999)\n"
     ]
    },
    {
     "data": {
      "image/png": "[encoded data removed]",
      "text/plain": [
       "<Figure size 2000x500 with 2 Axes>"
      ]
     },
     "metadata": {},
     "output_type": "display_data"
    }
   ],
   "source": [
    "tan_std = (5 / 3) / (10**0.5)  #for tanh\n",
    "std = 1 / 10**0.5\n",
    "\n",
    "x = torch.randn(1000, 10)\n",
    "w = torch.randn(10, 200) * std   # / 10**0.5 #square root of fan_in\n",
    "y = x @ w\n",
    "t = torch.tanh(y)\n",
    "print(x.mean(), x.std())\n",
    "print(y.mean(), y.std())\n",
    "plt.figure(figsize=(20,5))\n",
    "plt.subplot(121)\n",
    "plt.hist(x.view(-1).tolist(), 50, density = True);\n",
    "plt.subplot(122)\n",
    "plt.hist(y.view(-1).tolist(), 50, density = True);"
   ]
  },
  {
   "cell_type": "code",
   "execution_count": 31,
   "id": "56f443be-0f6c-44bf-a3a6-f438a35010af",
   "metadata": {},
   "outputs": [
    {
     "data": {
      "text/plain": [
       "torch.Size([32, 200])"
      ]
     },
     "execution_count": 31,
     "metadata": {},
     "output_type": "execute_result"
    }
   ],
   "source": [
    "hpreact.shape"
   ]
  },
  {
   "cell_type": "code",
   "execution_count": 32,
   "id": "727cf5fd-1ae1-451f-8a68-511fa8bc7ccb",
   "metadata": {},
   "outputs": [
    {
     "data": {
      "text/plain": [
       "torch.Size([1, 200])"
      ]
     },
     "execution_count": 32,
     "metadata": {},
     "output_type": "execute_result"
    }
   ],
   "source": [
    "hpreact.mean(0, keepdim = True).shape"
   ]
  },
  {
   "cell_type": "code",
   "execution_count": 33,
   "id": "09820409-53a3-4155-9c71-3a99a71fb9c5",
   "metadata": {},
   "outputs": [
    {
     "data": {
      "text/plain": [
       "torch.Size([1, 200])"
      ]
     },
     "execution_count": 33,
     "metadata": {},
     "output_type": "execute_result"
    }
   ],
   "source": [
    "hpreact.std(0, keepdim = True).shape"
   ]
  },
  {
   "cell_type": "code",
   "execution_count": 50,
   "id": "cfbd2114-903b-46e1-8c78-8436a2ddcb65",
   "metadata": {},
   "outputs": [
    {
     "name": "stdout",
     "output_type": "stream",
     "text": [
      "      0/ 200000: 3.3147\n",
      "  10000/ 200000: 2.1984\n",
      "  20000/ 200000: 2.3375\n",
      "  30000/ 200000: 2.4359\n",
      "  40000/ 200000: 2.0119\n",
      "  50000/ 200000: 2.2595\n",
      "  60000/ 200000: 2.4775\n",
      "  70000/ 200000: 2.1020\n",
      "  80000/ 200000: 2.2788\n",
      "  90000/ 200000: 2.1862\n",
      " 100000/ 200000: 1.9474\n",
      " 110000/ 200000: 2.3010\n",
      " 120000/ 200000: 1.9837\n",
      " 130000/ 200000: 2.4523\n",
      " 140000/ 200000: 2.3839\n",
      " 150000/ 200000: 2.1987\n",
      " 160000/ 200000: 1.9733\n",
      " 170000/ 200000: 1.8668\n",
      " 180000/ 200000: 1.9973\n",
      " 190000/ 200000: 1.8347\n"
     ]
    }
   ],
   "source": [
    "# optimization\n",
    "max_steps = 200000\n",
    "batch_size = 32\n",
    "lossi = []\n",
    "\n",
    "for i in range(max_steps):\n",
    "\n",
    "    #minibatch construct\n",
    "    ix = torch.randint(0, Xtr.shape[0], (batch_size,), generator=g)\n",
    "    Xb, Yb = Xtr[ix], Ytr[ix]  #batch X,Y\n",
    "\n",
    "    #forward pass\n",
    "    emb = C[Xb]  #embed the characters into vectors\n",
    "    embcat = emb.view(emb.shape[0], -1)  #concatenate the vetors\n",
    "\n",
    "    #linear layer\n",
    "    hpreact = embcat @ W1 # + b1 # hidden layer pre-activation\n",
    "    # bcz of substraction b1 bias not having any influence # it will not learn\n",
    "\n",
    "    #BatchNorm layer\n",
    "    bnmeani = hpreact.mean(0, keepdim = True)\n",
    "    bnstdi = hpreact.std(0, keepdim = True)\n",
    "    # normalization of batch\n",
    "    hpreact = bngain * (hpreact - bnmeani) / (bnstdi) + bnbias  #bnbias -> now this is main incharge of biasness\n",
    "    # what it will do that every single neuron now and its firing rate will be exactly unit Gaussian on these 32 examples of batch\n",
    "    # if you think first hpreact is giving activations and logits for the example and then it suddenly evaluating it through all of other examples of batch\n",
    "    # we introduced noice in it, so acc to other examples now it will jitter little bit and change it self\n",
    "    # which will protect him from overfitting , so that it will not fit with exact example\n",
    "    with torch.no_grad():\n",
    "        bnmean_running = 0.999 * bnmean_running + 0.001 * bnmeani\n",
    "        bnstd_running = 0.999 * bnstd_running + 0.001 * bnstdi\n",
    "\n",
    "    # non-linearity\n",
    "    h = torch.tanh(hpreact) #hidden layer\n",
    "    logits = h @ W2 + b2  #output layer\n",
    "    loss = F.cross_entropy(logits, Yb) #loss function\n",
    "\n",
    "    #backward pass\n",
    "    for p in parameters:\n",
    "        p.grad = None\n",
    "    loss.backward()\n",
    "\n",
    "    #update\n",
    "    lr = 0.1 if i < 100000 else 0.01 #step learning rate decav\n",
    "    for p in parameters:\n",
    "        p.data += -lr * p.grad\n",
    "\n",
    "    #track stats\n",
    "    if i % 10000 == 0:   #print every once in a while\n",
    "        print(f'{i:7d}/{max_steps:7d}: {loss.item():.4f}')\n",
    "    lossi.append(loss.log10().item())\n",
    "\n",
    "    \n",
    "    #break"
   ]
  },
  {
   "cell_type": "code",
   "execution_count": 28,
   "id": "24550e73-a380-43c8-9edd-fac361816d96",
   "metadata": {},
   "outputs": [
    {
     "data": {
      "text/plain": [
       "[<matplotlib.lines.Line2D at 0x7f1e155b1730>]"
      ]
     },
     "execution_count": 28,
     "metadata": {},
     "output_type": "execute_result"
    },
    {
     "data": {
      "image/png": "[encoded data removed]",
      "text/plain": [
       "<Figure size 640x480 with 1 Axes>"
      ]
     },
     "metadata": {},
     "output_type": "display_data"
    }
   ],
   "source": [
    "plt.plot(lossi)"
   ]
  },
  {
   "cell_type": "code",
   "execution_count": 51,
   "id": "ca1f4ff2-fa6e-440a-b4e9-1a2e79e68dfc",
   "metadata": {},
   "outputs": [],
   "source": [
    "# calibrate the batch norm at the end of training\n",
    "\n",
    "with torch.no_grad():\n",
    "    # pass the training set through\n",
    "    emb = C[Xtr]\n",
    "    embcat = emb.view(emb.shape[0], -1)\n",
    "    hpreact = embcat @ W1 + b1\n",
    "    #measure the mean / std over the entire training set\n",
    "    bnmean = hpreact.mean(0, keepdim = True)\n",
    "    bnstd = hpreact.std(0, keepdim = True)\n",
    "    "
   ]
  },
  {
   "cell_type": "code",
   "execution_count": 52,
   "id": "9bba1279-bb20-42ce-987f-3c7375c5d217",
   "metadata": {},
   "outputs": [
    {
     "data": {
      "text/plain": [
       "tensor([[-2.3355,  0.6776, -0.9133,  1.0163,  1.0866,  1.0938,  1.7437, -2.1208,\n",
       "          0.5730,  1.4455, -1.6343, -2.7372, -0.4752, -0.1412, -0.0746, -1.1722,\n",
       "          0.6851, -2.6219, -0.1065,  1.6326, -0.7706, -0.3063,  0.0479,  0.6115,\n",
       "          1.1173,  0.2427,  2.0500,  0.5831,  0.8527,  1.7680, -0.3625, -0.8356,\n",
       "         -0.0854, -0.5177, -0.3806, -1.0698, -0.0786,  0.3487, -0.5808,  0.9875,\n",
       "         -0.4427, -1.3082, -0.2871, -0.2332,  0.6850,  0.6850,  2.0857, -0.7608,\n",
       "          2.3866,  1.8734,  0.8259,  0.2803,  1.8897,  0.4709,  0.6739, -1.8940,\n",
       "         -0.0401,  0.4338,  1.3760, -0.8910, -0.4524,  1.1754,  0.5613,  0.6051,\n",
       "          1.5858,  1.2261, -1.0111,  2.1495, -0.6392,  0.0938, -0.2864, -0.4856,\n",
       "          0.9632, -1.0461, -2.9990,  0.6391,  1.4327, -0.1590,  0.0941,  0.5253,\n",
       "          0.2508,  1.2521,  2.0389,  0.6608,  0.0691, -0.0813, -1.6723,  0.2933,\n",
       "          2.2423, -0.0210, -0.6666,  1.4253, -0.8412, -1.2248, -1.0129,  0.2230,\n",
       "          0.2113, -0.3226,  0.1141, -0.6350,  0.1848,  0.1165, -1.3947,  0.2343,\n",
       "          0.2170, -0.3493, -0.3409, -0.1918,  0.9244, -0.8073,  0.7147,  0.2383,\n",
       "          0.3964,  1.2354,  2.8623,  2.0470,  0.8419,  0.8480,  0.3483, -0.3153,\n",
       "         -1.0648, -1.4465,  0.3518,  1.1174, -1.1265,  0.0688, -0.2204, -0.4964,\n",
       "         -0.8558, -1.0849,  2.8098, -1.2866,  0.6543,  1.8674,  0.9511,  1.0606,\n",
       "         -0.7020,  1.8505,  0.1528,  0.4583,  1.6235, -0.1899,  1.9334,  0.2938,\n",
       "          0.4391,  0.2065,  1.1369, -0.6884,  0.1559,  0.5905, -1.5957, -0.2324,\n",
       "          1.7724,  1.2664,  0.9916, -0.4957,  1.4023, -1.6664,  0.0178,  0.4224,\n",
       "          0.5857, -0.4225,  0.9377, -1.1793, -0.4486, -0.7184, -0.3307, -0.4207,\n",
       "         -2.1519, -0.1099,  1.1733, -2.1530,  0.1215, -0.8929, -0.9959,  0.9028,\n",
       "          1.3427, -0.7526,  1.3065, -1.5016,  1.8438,  0.9704,  0.8244, -0.7247,\n",
       "          0.3621,  0.0769, -0.9657,  0.1345,  1.8784,  0.9191, -0.5020,  1.6438,\n",
       "         -0.7394,  0.2081,  0.1425,  1.2711,  1.8083, -0.8162,  0.2586,  1.2403]])"
      ]
     },
     "execution_count": 52,
     "metadata": {},
     "output_type": "execute_result"
    }
   ],
   "source": [
    "bnmean"
   ]
  },
  {
   "cell_type": "code",
   "execution_count": 53,
   "id": "32f1835f-7bba-42a4-a6ae-33ea85c2f4e4",
   "metadata": {},
   "outputs": [
    {
     "data": {
      "text/plain": [
       "tensor([[-2.3539,  0.6872, -0.9000,  1.0159,  1.0894,  1.0862,  1.7389, -2.1357,\n",
       "          0.5608,  1.4246, -1.6445, -2.7426, -0.4861, -0.1510, -0.0687, -1.1550,\n",
       "          0.6891, -2.6399, -0.1283,  1.6241, -0.7732, -0.2865,  0.0467,  0.6119,\n",
       "          1.1172,  0.2433,  2.0542,  0.5778,  0.8515,  1.7729, -0.3741, -0.8386,\n",
       "         -0.0831, -0.5198, -0.3817, -1.0698, -0.0780,  0.3370, -0.5768,  0.9935,\n",
       "         -0.4507, -1.3313, -0.2895, -0.2299,  0.6877,  0.6936,  2.0835, -0.7759,\n",
       "          2.3804,  1.8613,  0.8117,  0.2735,  1.8802,  0.4704,  0.6656, -1.8962,\n",
       "         -0.0420,  0.4356,  1.3924, -0.8906, -0.4676,  1.1688,  0.5539,  0.6001,\n",
       "          1.5853,  1.2103, -1.0171,  2.1422, -0.6330,  0.1071, -0.2926, -0.4831,\n",
       "          0.9506, -1.0144, -2.9925,  0.6269,  1.4404, -0.1574,  0.0955,  0.5159,\n",
       "          0.2487,  1.2401,  2.0104,  0.6695,  0.0768, -0.0851, -1.6767,  0.2964,\n",
       "          2.2374, -0.0100, -0.6669,  1.4356, -0.8431, -1.2317, -1.0221,  0.2201,\n",
       "          0.1928, -0.3261,  0.1108, -0.6206,  0.1795,  0.1089, -1.4007,  0.2215,\n",
       "          0.2301, -0.3369, -0.3340, -0.1849,  0.9342, -0.8288,  0.7119,  0.2475,\n",
       "          0.3813,  1.2447,  2.8428,  2.0338,  0.8294,  0.8459,  0.3483, -0.3078,\n",
       "         -1.0773, -1.4394,  0.3424,  1.1274, -1.1252,  0.0692, -0.2308, -0.4936,\n",
       "         -0.8471, -1.0785,  2.8081, -1.2823,  0.6541,  1.8701,  0.9662,  1.0696,\n",
       "         -0.7051,  1.8326,  0.1624,  0.4782,  1.6376, -0.1962,  1.9364,  0.2986,\n",
       "          0.4300,  0.2062,  1.1390, -0.6907,  0.1571,  0.5883, -1.5947, -0.2230,\n",
       "          1.7796,  1.2689,  0.9813, -0.4950,  1.4052, -1.6645,  0.0248,  0.4152,\n",
       "          0.5742, -0.4044,  0.9335, -1.1684, -0.4574, -0.7229, -0.3192, -0.4214,\n",
       "         -2.1397, -0.1036,  1.1620, -2.1602,  0.1196, -0.8847, -0.9970,  0.9115,\n",
       "          1.3360, -0.7412,  1.2991, -1.5061,  1.8278,  0.9732,  0.8191, -0.7259,\n",
       "          0.3556,  0.0714, -0.9718,  0.1299,  1.8912,  0.9107, -0.4951,  1.6493,\n",
       "         -0.7601,  0.2008,  0.1606,  1.2586,  1.8110, -0.8021,  0.2453,  1.2369]])"
      ]
     },
     "execution_count": 53,
     "metadata": {},
     "output_type": "execute_result"
    }
   ],
   "source": [
    "bnmean_running"
   ]
  },
  {
   "cell_type": "code",
   "execution_count": 55,
   "id": "919c9e90-205b-4512-a356-9395b245229b",
   "metadata": {},
   "outputs": [
    {
     "name": "stdout",
     "output_type": "stream",
     "text": [
      "train 2.06659197807312\n",
      "val 2.0708370208740234\n"
     ]
    }
   ],
   "source": [
    "@torch.no_grad()  #this decorator disables gradient tracking\n",
    "def split_loss(split):\n",
    "    x, y = {\n",
    "        'train': (Xtr, Ytr),\n",
    "        'val':   (Xdev, Ydev),\n",
    "        'test':  (Xte, Yte),\n",
    "    }[split]\n",
    "    emb = C[x]   #(samples, block_size, n_embd)\n",
    "    embcat = emb.view(emb.shape[0], -1)  #concat into (samples, block_size*n_embd)\n",
    "    hpreact = embcat @ W1 + b1\n",
    "    #hpreact = bngain * (hpreact - hpreact.mean(0, keepdim = True)) / (hpreact.std(0, keepdim = True)) + bnbias\n",
    "    hpreact = bngain * (hpreact - bnmean_running) / (bnstd_running) + bnbias\n",
    "    h = torch.tanh(hpreact)  #(samples, n_hidden)\n",
    "    logits = h @ W2 + b2  #(samples, vocab_size)\n",
    "    loss = F.cross_entropy(logits, y)\n",
    "    print(split, loss.item())\n",
    "\n",
    "split_loss('train')\n",
    "split_loss('val')"
   ]
  },
  {
   "cell_type": "code",
   "execution_count": 38,
   "id": "9c9c0fdf-58e3-454b-80a3-b810db9e9546",
   "metadata": {},
   "outputs": [
    {
     "name": "stdout",
     "output_type": "stream",
     "text": [
      "carpahzarbriq.\n",
      "shlimrixtts.\n",
      "lusslaysierricnenddhn.\n",
      "frtivgqliyah.\n",
      "farrichaiirdnsleggyu.\n",
      "bmanvitte.\n",
      "sants.\n",
      "lustvi.\n",
      "vabbuwatth.\n",
      "giidryxiidh.\n",
      "sulipsables.\n",
      "falia.\n",
      "gtas.\n",
      "jasfaylahas.\n",
      "bduricsydustquovozswy.\n",
      "bjumillassannyks.\n",
      "sadlusoffordst.\n",
      "sramsryndlycpllmanraq.\n",
      "shelseombriyabhda.\n",
      "ffxrdustvebndvi.\n"
     ]
    }
   ],
   "source": [
    "# sample from the model\n",
    "g = torch.Generator().manual_seed(2147483647 + 10)\n",
    "\n",
    "for _ in range(20):\n",
    "\n",
    "    out = []\n",
    "    context = [0] * block_size #initialize with all ...\n",
    "    while True:\n",
    "        #forward pass the neural net\n",
    "        emb = C[torch.tensor([context])] # (1, block_size, n_embd)\n",
    "        h = torch.tanh(emb.view(1, -1) @ W1 + b1)\n",
    "        logits = h @ W2 + b2\n",
    "        probs = F.softmax(logits, dim=1)\n",
    "        #sample from the distribution\n",
    "        ix = torch.multinomial(probs, num_samples=1, generator=g).item()\n",
    "        #shift the context window and track the samples\n",
    "        context = context[1:] + [ix]\n",
    "        out.append(ix)\n",
    "        # if we sample the special '.' token, break\n",
    "        if ix == 0:\n",
    "            break\n",
    "\n",
    "    print(''.join(itos[i] for i in out))  #decode and print the generated word"
   ]
  },
  {
   "cell_type": "code",
   "execution_count": null,
   "id": "757537c8-8b78-42fd-88a8-a6f19879b777",
   "metadata": {},
   "outputs": [],
   "source": [
    "h\n",
    "#so tanh what it do is squeeze the data in range of -1 to 1\n",
    "#we are seeing so many values of -1 and 1\n",
    "#lets see through plt"
   ]
  },
  {
   "cell_type": "code",
   "execution_count": 20,
   "id": "109fca72-86ad-4918-8504-ba4b5ac8bbd0",
   "metadata": {},
   "outputs": [
    {
     "data": {
      "text/plain": [
       "torch.Size([32, 200])"
      ]
     },
     "execution_count": 20,
     "metadata": {},
     "output_type": "execute_result"
    }
   ],
   "source": [
    "h.shape"
   ]
  },
  {
   "cell_type": "code",
   "execution_count": 21,
   "id": "e9d11c8a-8c58-4cae-b53a-d30b10864b83",
   "metadata": {},
   "outputs": [
    {
     "data": {
      "text/plain": [
       "torch.Size([6400])"
      ]
     },
     "execution_count": 21,
     "metadata": {},
     "output_type": "execute_result"
    }
   ],
   "source": [
    "h.view(-1).shape"
   ]
  },
  {
   "cell_type": "code",
   "execution_count": 22,
   "id": "49673ed1-56e1-4b68-a296-e0fbad57c0d8",
   "metadata": {},
   "outputs": [
    {
     "data": {
      "image/png": "[encoded data removed]",
      "text/plain": [
       "<Figure size 640x480 with 1 Axes>"
      ]
     },
     "metadata": {},
     "output_type": "display_data"
    }
   ],
   "source": [
    "plt.hist(h.view(-1).tolist(), 50);\n",
    "# it is a problem because we know the graph of tanh flatterns at -1 & 1\n",
    "# also you can see from grad formula = 1-tanh**2, which makes grad = 0\n",
    "# which means it didn't backpropogate -> it stops back propogating\n",
    "# which makes the grad = 0 and never improving or learning\n",
    "# that makes the dead neurons and a permanent brain damage\n",
    "# and which mean their is is less trainnig for those neurons \n",
    "# bcz they update less frequently\n",
    "# not good specially at initiallization\n",
    "# also it is a problem of scaling and wide range\n",
    "# we found in main code -> hpreact = embcat @ W1 + b1\n",
    "# and here W1 and b1 is causing the issue\n",
    "# so we want this reactivation closer to zero\n",
    "# not exactly zero , sometimes it is improves little bit optimization\n",
    "# so that their is like a little bit variation and diversity in the original initiallization of neurons"
   ]
  },
  {
   "cell_type": "code",
   "execution_count": 23,
   "id": "bbdeb464-be7a-4751-801e-00f4ebc179a4",
   "metadata": {},
   "outputs": [
    {
     "data": {
      "image/png": "[encoded data removed]",
      "text/plain": [
       "<Figure size 640x480 with 1 Axes>"
      ]
     },
     "metadata": {},
     "output_type": "display_data"
    }
   ],
   "source": [
    "# so let see why that is\n",
    "# so we can see that the distribution of pre-activations is very very broad\n",
    "plt.hist(hpreact.view(-1).tolist(), 50);"
   ]
  },
  {
   "cell_type": "code",
   "execution_count": 24,
   "id": "d8c47f6b-ab0d-4b07-b680-a3dd26c09c99",
   "metadata": {},
   "outputs": [
    {
     "data": {
      "image/png": "[encoded data removed]",
      "text/plain": [
       "<Figure size 2000x1000 with 1 Axes>"
      ]
     },
     "metadata": {},
     "output_type": "display_data"
    }
   ],
   "source": [
    "plt.figure(figsize=(20,10))\n",
    "plt.show(plt.imshow(h.abs()>0.99, cmap='gray', interpolation='nearest'))\n",
    "# it is showing how many neurons are dead which is too many\n",
    "# white -> dead neurons"
   ]
  },
  {
   "cell_type": "code",
   "execution_count": 25,
   "id": "f1f88d31-b61e-4588-ab09-13ef8c9408a3",
   "metadata": {},
   "outputs": [
    {
     "data": {
      "text/plain": [
       "tensor([-0.0521,  0.2584, -0.0805,  0.0368,  0.1352, -0.0441, -0.0346, -0.0126,\n",
       "        -0.0057,  0.0850,  0.1718, -0.0434,  0.0048, -0.1928, -0.0810,  0.0371,\n",
       "        -0.0075, -0.1335, -0.2473, -0.0259,  0.1766,  0.1179,  0.1208, -0.0968,\n",
       "        -0.1705,  0.1070,  0.1170], grad_fn=<SelectBackward0>)"
      ]
     },
     "execution_count": 25,
     "metadata": {},
     "output_type": "execute_result"
    }
   ],
   "source": [
    "logits[0]\n",
    "#range is big  #loss at initialization is much"
   ]
  },
  {
   "cell_type": "code",
   "execution_count": null,
   "id": "a68ccd59-f38e-4826-8eeb-02a779d55a65",
   "metadata": {},
   "outputs": [],
   "source": [
    "# 4-dimensional example of the issue\n",
    "#logits = torch.tensor([0.0,0.0,0.0,0.0]) normally distributed #loss-> 0.25\n",
    "# also randn is normally distributed like this \n",
    "# but what if we scale it by multiplying or adding \n",
    "# it increases the range of logit \n",
    "logits = torch.randn(4) * 10  \n",
    "# we found in main code logits = h @ W2 + b2\n",
    "# and here b2 and W2 is found out to be responsible for scaling\n",
    "# so we need to initiallize them as small as possible\n",
    "# so we should do b2 = 0 at initiallization\n",
    "# and W2 as small possible not exactly zero\n",
    "# so that the loss will come more close to normalize distribution (-torch.tensor(1/27.0).log())\n",
    "probs = torch.softmax(logits, dim=0)\n",
    "loss = -probs[2].log()\n",
    "logits, probs, loss"
   ]
  },
  {
   "cell_type": "code",
   "execution_count": 26,
   "id": "200e1b8e-db74-41d8-b767-c32b31cdd514",
   "metadata": {},
   "outputs": [
    {
     "data": {
      "text/plain": [
       "tensor(3.2958)"
      ]
     },
     "execution_count": 26,
     "metadata": {},
     "output_type": "execute_result"
    }
   ],
   "source": [
    "# at initiallizaation we expect much less loss or u can say noramlly distributed loss\n",
    "-torch.tensor(1/27.0).log()"
   ]
  },
  {
   "cell_type": "code",
   "execution_count": null,
   "id": "5d1306f3-b009-49f7-9366-da28e4c47db3",
   "metadata": {},
   "outputs": [],
   "source": [
    "# import matplotlib\n",
    "# print(matplotlib.get_backend())"
   ]
  },
  {
   "cell_type": "code",
   "execution_count": null,
   "id": "f5db0ea3-1787-46ca-ab4d-a5025928ed0b",
   "metadata": {},
   "outputs": [],
   "source": []
  },
  {
   "cell_type": "code",
   "execution_count": null,
   "id": "e4a98cd8-a854-40da-8e57-71d1f05e61fc",
   "metadata": {},
   "outputs": [],
   "source": []
  },
  {
   "cell_type": "code",
   "execution_count": null,
   "id": "ba8f1517-f3a5-4dbd-b2ba-85e98a482bba",
   "metadata": {},
   "outputs": [],
   "source": []
  },
  {
   "cell_type": "code",
   "execution_count": null,
   "id": "8f5fb022-c301-4e31-bb3c-5780ca4472f0",
   "metadata": {},
   "outputs": [],
   "source": []
  },
  {
   "cell_type": "code",
   "execution_count": null,
   "id": "fa444ddd-21c3-477b-b3bf-6af55fe79e2d",
   "metadata": {},
   "outputs": [],
   "source": []
  }
 ],
 "metadata": {
  "kernelspec": {
   "display_name": "Python 3 (ipykernel)",
   "language": "python",
   "name": "python3"
  },
  "language_info": {
   "codemirror_mode": {
    "name": "ipython",
    "version": 3
   },
   "file_extension": ".py",
   "mimetype": "text/x-python",
   "name": "python",
   "nbconvert_exporter": "python",
   "pygments_lexer": "ipython3",
   "version": "3.12.7"
  }
 },
 "nbformat": 4,
 "nbformat_minor": 5
}

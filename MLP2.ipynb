{
 "cells": [
  {
   "cell_type": "code",
   "execution_count": 1,
   "id": "ba070229-3dff-405a-b366-dcd537a0812e",
   "metadata": {},
   "outputs": [],
   "source": [
    "import torch\n",
    "import torch.nn.functional as F\n",
    "import matplotlib.pyplot as plt"
   ]
  },
  {
   "cell_type": "code",
   "execution_count": 2,
   "id": "58f29753-4f48-4d36-a8b4-00f13a4533b2",
   "metadata": {},
   "outputs": [
    {
     "data": {
      "text/plain": [
       "['emma', 'olivia', 'ava', 'isabella', 'sophia', 'charlotte', 'mia', 'amelia']"
      ]
     },
     "execution_count": 2,
     "metadata": {},
     "output_type": "execute_result"
    }
   ],
   "source": [
    "# read in all the words\n",
    "words = open('names.txt', 'r').read().splitlines()\n",
    "words[:8]"
   ]
  },
  {
   "cell_type": "code",
   "execution_count": 3,
   "id": "4e41fb59-779a-4208-b278-ae44c538a2ea",
   "metadata": {},
   "outputs": [
    {
     "data": {
      "text/plain": [
       "32033"
      ]
     },
     "execution_count": 3,
     "metadata": {},
     "output_type": "execute_result"
    }
   ],
   "source": [
    "len(words)"
   ]
  },
  {
   "cell_type": "code",
   "execution_count": 4,
   "id": "8ab9896e-bea6-43df-948d-3bf821fe50fe",
   "metadata": {},
   "outputs": [
    {
     "name": "stdout",
     "output_type": "stream",
     "text": [
      "{1: 'a', 2: 'b', 3: 'c', 4: 'd', 5: 'e', 6: 'f', 7: 'g', 8: 'h', 9: 'i', 10: 'j', 11: 'k', 12: 'l', 13: 'm', 14: 'n', 15: 'o', 16: 'p', 17: 'q', 18: 'r', 19: 's', 20: 't', 21: 'u', 22: 'v', 23: 'w', 24: 'x', 25: 'y', 26: 'z', 0: '.'}\n",
      "27\n"
     ]
    }
   ],
   "source": [
    "# build the vocabulary of characters and mapping to/from integers\n",
    "# chars = \n",
    "# stoi =\n",
    "# itos =\n",
    "# vocab_size =\n",
    "\n",
    "chars = sorted(list(set(''.join(words))))\n",
    "stoi = {s:i for i,s in enumerate(chars,1)}\n",
    "stoi['.'] = 0\n",
    "itos = {i:s for s,i in stoi.items()}\n",
    "vocab_size = len(itos)\n",
    "\n",
    "\n",
    "# chars = sorted(list(set(''.join(words))))\n",
    "# stoi = {s:i+1 for i,s in enumerate(chars)}\n",
    "# stoi['.'] = 0\n",
    "# itos = {i+1:s for i,s in enumerate(chars)}\n",
    "# itos[0] = '.'\n",
    "# vocab_size = len(itos)\n",
    "\n",
    "\n",
    "print(itos)\n",
    "print(vocab_size)"
   ]
  },
  {
   "cell_type": "code",
   "execution_count": 5,
   "id": "e78111e8-1ec8-495b-90e1-cd0574d8be23",
   "metadata": {},
   "outputs": [
    {
     "name": "stdout",
     "output_type": "stream",
     "text": [
      "torch.Size([182625, 3]) torch.Size([182625])\n",
      "torch.Size([205280, 3]) torch.Size([205280])\n",
      "torch.Size([22866, 3]) torch.Size([22866])\n"
     ]
    }
   ],
   "source": [
    "# build the dataset \n",
    "block_size = 3\n",
    "\n",
    "def build_dataset(words):\n",
    "    X, Y = [], []\n",
    "\n",
    "    for w in words:\n",
    "        context = [0] * block_size\n",
    "        for ch in w + '.':\n",
    "            ix = stoi[ch]\n",
    "            X.append(context)\n",
    "            Y.append(ix)\n",
    "            context = context[1:] + [ix]\n",
    "\n",
    "    X = torch.tensor(X)\n",
    "    Y = torch.tensor(Y)\n",
    "    print(X.shape, Y.shape)\n",
    "    return X,Y\n",
    "\n",
    "\n",
    "import random\n",
    "random.seed(42)\n",
    "random.shuffle(words)\n",
    "n1 = int(0.8*len(words))\n",
    "n2 = int(0.9*len(words))\n",
    "\n",
    "Xtr, Ytr = build_dataset(words[:n1])\n",
    "Xdev, Ydev = build_dataset(words[:n2])\n",
    "Xte, Yte = build_dataset(words[n2:])"
   ]
  },
  {
   "cell_type": "code",
   "execution_count": 71,
   "id": "67f0213c-5301-43db-a16a-47cf76779008",
   "metadata": {},
   "outputs": [
    {
     "name": "stdout",
     "output_type": "stream",
     "text": [
      "11897\n"
     ]
    }
   ],
   "source": [
    "# MPL revisited\n",
    "n_embd = 10  # the dimensionality of the character embedding vector\n",
    "n_hidden = 200  # the number of neurons in the hidden layer of the MPL\n",
    "\n",
    "g  = torch.Generator().manual_seed(2147483647)  # for reproductibility\n",
    "C  = torch.randn((vocab_size, n_embd),            generator= g)\n",
    "W1 = torch.randn((n_embd * block_size, n_hidden), generator= g) * ((5 / 3) / ( (n_embd * block_size)**0.5 ) )  #0.2    #so that matrix multiplication for one sample becomes sum(features * weights)\n",
    "b1 = torch.randn(n_hidden,                        generator= g) * 0.01\n",
    "W2 = torch.randn((n_hidden,vocab_size),           generator= g) * 0.01   #why not 0?\n",
    "b2 = torch.randn(vocab_size,                      generator= g) * 0      #at initiallization\n",
    "\n",
    "parameters = [C, W1, b1, W2, b2]\n",
    "print(sum(p.nelement() for p in parameters))  # no. of parameters in total\n",
    "for p in parameters:\n",
    "    p.requires_grad = True"
   ]
  },
  {
   "cell_type": "code",
   "execution_count": 53,
   "id": "042da894-3645-417e-b00f-60f8bb6fb1a4",
   "metadata": {},
   "outputs": [
    {
     "data": {
      "text/plain": [
       "tensor(0.9952)"
      ]
     },
     "execution_count": 53,
     "metadata": {},
     "output_type": "execute_result"
    }
   ],
   "source": [
    "torch.randn(1000).std()"
   ]
  },
  {
   "cell_type": "code",
   "execution_count": 70,
   "id": "dc4d5e1a-18d0-429f-8235-114d93d4f240",
   "metadata": {},
   "outputs": [
    {
     "name": "stdout",
     "output_type": "stream",
     "text": [
      "tensor(0.0143) tensor(1.0043)\n",
      "tensor(0.0026) tensor(1.0133)\n"
     ]
    },
    {
     "data": {
      "image/png": "[encoded data removed]",
      "text/plain": [
       "<Figure size 2000x500 with 2 Axes>"
      ]
     },
     "metadata": {},
     "output_type": "display_data"
    }
   ],
   "source": [
    "tan_std = (5 / 3) / (10**0.5)  #for tanh\n",
    "std = 1 / 10**0.5\n",
    "\n",
    "x = torch.randn(1000, 10)\n",
    "w = torch.randn(10, 200) * std   # / 10**0.5 #square root of fan_in\n",
    "y = x @ w\n",
    "t = torch.tanh(y)\n",
    "print(x.mean(), x.std())\n",
    "print(y.mean(), y.std())\n",
    "plt.figure(figsize=(20,5))\n",
    "plt.subplot(121)\n",
    "plt.hist(x.view(-1).tolist(), 50, density = True);\n",
    "plt.subplot(122)\n",
    "plt.hist(y.view(-1).tolist(), 50, density = True);"
   ]
  },
  {
   "cell_type": "code",
   "execution_count": 72,
   "id": "cfbd2114-903b-46e1-8c78-8436a2ddcb65",
   "metadata": {},
   "outputs": [
    {
     "name": "stdout",
     "output_type": "stream",
     "text": [
      "      0/ 200000: 3.3179\n",
      "  10000/ 200000: 2.1910\n",
      "  20000/ 200000: 2.3270\n",
      "  30000/ 200000: 2.5396\n",
      "  40000/ 200000: 1.9468\n",
      "  50000/ 200000: 2.3331\n",
      "  60000/ 200000: 2.3852\n",
      "  70000/ 200000: 2.1173\n",
      "  80000/ 200000: 2.3159\n",
      "  90000/ 200000: 2.2010\n",
      " 100000/ 200000: 1.8591\n",
      " 110000/ 200000: 2.0881\n",
      " 120000/ 200000: 1.9389\n",
      " 130000/ 200000: 2.3913\n",
      " 140000/ 200000: 2.0949\n",
      " 150000/ 200000: 2.1458\n",
      " 160000/ 200000: 1.7824\n",
      " 170000/ 200000: 1.7249\n",
      " 180000/ 200000: 1.9752\n",
      " 190000/ 200000: 1.8614\n"
     ]
    }
   ],
   "source": [
    "# optimization\n",
    "max_steps = 200000\n",
    "batch_size = 32\n",
    "lossi = []\n",
    "\n",
    "for i in range(max_steps):\n",
    "\n",
    "    #minibatch construct\n",
    "    ix = torch.randint(0, Xtr.shape[0], (batch_size,), generator=g)\n",
    "    Xb, Yb = Xtr[ix], Ytr[ix]  #batch X,Y\n",
    "\n",
    "    #forward pass\n",
    "    emb = C[Xb]  #embed the characters into vectors\n",
    "    embcat = emb.view(emb.shape[0], -1)  #concatenate the vetors\n",
    "    hpreact = embcat @ W1 + b1 # hidden layer pre-activation\n",
    "    h = torch.tanh(hpreact) #hidden layer\n",
    "    logits = h @ W2 + b2  #output layer\n",
    "    loss = F.cross_entropy(logits, Yb) #loss function\n",
    "\n",
    "    #backward pass\n",
    "    for p in parameters:\n",
    "        p.grad = None\n",
    "    loss.backward()\n",
    "\n",
    "    #update\n",
    "    lr = 0.1 if i < 100000 else 0.01 #step learning rate decav\n",
    "    for p in parameters:\n",
    "        p.data += -lr * p.grad\n",
    "\n",
    "    #track stats\n",
    "    if i % 10000 == 0:   #print every once in a while\n",
    "        print(f'{i:7d}/{max_steps:7d}: {loss.item():.4f}')\n",
    "    lossi.append(loss.log10().item())\n",
    "    \n",
    "    "
   ]
  },
  {
   "cell_type": "code",
   "execution_count": null,
   "id": "dae1f6a0-1509-476e-92bb-57c17a0d2bd0",
   "metadata": {},
   "outputs": [],
   "source": []
  },
  {
   "cell_type": "code",
   "execution_count": 10,
   "id": "24550e73-a380-43c8-9edd-fac361816d96",
   "metadata": {},
   "outputs": [
    {
     "data": {
      "text/plain": [
       "[<matplotlib.lines.Line2D at 0x7fd7d8f4f200>]"
      ]
     },
     "execution_count": 10,
     "metadata": {},
     "output_type": "execute_result"
    },
    {
     "data": {
      "image/png": "[encoded data removed]",
      "text/plain": [
       "<Figure size 640x480 with 1 Axes>"
      ]
     },
     "metadata": {},
     "output_type": "display_data"
    }
   ],
   "source": [
    "plt.plot(lossi)"
   ]
  },
  {
   "cell_type": "code",
   "execution_count": 73,
   "id": "919c9e90-205b-4512-a356-9395b245229b",
   "metadata": {},
   "outputs": [
    {
     "name": "stdout",
     "output_type": "stream",
     "text": [
      "train 2.0376641750335693\n",
      "val 2.0453150272369385\n"
     ]
    }
   ],
   "source": [
    "@torch.no_grad()  #this decorator disables gradient tracking\n",
    "def split_loss(split):\n",
    "    x, y = {\n",
    "        'train': (Xtr, Ytr),\n",
    "        'val':   (Xdev, Ydev),\n",
    "        'test':  (Xte, Yte),\n",
    "    }[split]\n",
    "    emb = C[x]   #(samples, block_size, n_embd)\n",
    "    embcat = emb.view(emb.shape[0], -1)  #concat into (samples, block_size*n_embd)\n",
    "    h = torch.tanh(embcat @ W1 + b1)  #(samples, n_hidden)\n",
    "    logits = h @ W2 + b2  #(samples, vocab_size)\n",
    "    loss = F.cross_entropy(logits, y)\n",
    "    print(split, loss.item())\n",
    "\n",
    "split_loss('train')\n",
    "split_loss('val')"
   ]
  },
  {
   "cell_type": "code",
   "execution_count": 74,
   "id": "9c9c0fdf-58e3-454b-80a3-b810db9e9546",
   "metadata": {},
   "outputs": [
    {
     "name": "stdout",
     "output_type": "stream",
     "text": [
      "carmahzaylyn.\n",
      "kiffinleige.\n",
      "tyrencessa.\n",
      "jazon.\n",
      "nadelynn.\n",
      "jareei.\n",
      "nellara.\n",
      "chaiivan.\n",
      "legyn.\n",
      "ham.\n",
      "joce.\n",
      "quint.\n",
      "salin.\n",
      "alianni.\n",
      "waveron.\n",
      "jaryxin.\n",
      "kaellissa.\n",
      "med.\n",
      "edi.\n",
      "abette.\n"
     ]
    }
   ],
   "source": [
    "# sample from the model\n",
    "g = torch.Generator().manual_seed(2147483647 + 10)\n",
    "\n",
    "for _ in range(20):\n",
    "\n",
    "    out = []\n",
    "    context = [0] * block_size #initialize with all ...\n",
    "    while True:\n",
    "        #forward pass the neural net\n",
    "        emb = C[torch.tensor([context])] # (1, block_size, n_embd)\n",
    "        h = torch.tanh(emb.view(1, -1) @ W1 + b1)\n",
    "        logits = h @ W2 + b2\n",
    "        probs = F.softmax(logits, dim=1)\n",
    "        #sample from the distribution\n",
    "        ix = torch.multinomial(probs, num_samples=1, generator=g).item()\n",
    "        #shift the context window and track the samples\n",
    "        context = context[1:] + [ix]\n",
    "        out.append(ix)\n",
    "        # if we sample the special '.' token, break\n",
    "        if ix == 0:\n",
    "            break\n",
    "\n",
    "    print(''.join(itos[i] for i in out))  #decode and print the generated word"
   ]
  },
  {
   "cell_type": "code",
   "execution_count": 26,
   "id": "757537c8-8b78-42fd-88a8-a6f19879b777",
   "metadata": {},
   "outputs": [
    {
     "data": {
      "text/plain": [
       "tensor([[ 0.5503, -0.1064, -0.6658,  ..., -0.3477, -0.9756,  0.8880],\n",
       "        [-0.9081, -0.1924, -0.1833,  ...,  0.0494,  0.4942,  0.4397],\n",
       "        [ 0.8016,  0.1173,  0.8237,  ...,  0.2890,  0.6476,  0.8827],\n",
       "        ...,\n",
       "        [-0.9190,  0.5208, -0.0346,  ..., -0.0830,  0.8660,  0.8849],\n",
       "        [-0.9362,  0.0930, -0.2810,  ..., -0.1260,  0.7874,  0.9102],\n",
       "        [-0.9190,  0.5208, -0.0346,  ..., -0.0830,  0.8660,  0.8849]],\n",
       "       grad_fn=<TanhBackward0>)"
      ]
     },
     "execution_count": 26,
     "metadata": {},
     "output_type": "execute_result"
    }
   ],
   "source": [
    "h\n",
    "#so tanh what it do is squeeze the data in range of -1 to 1\n",
    "#we are seeing so many values of -1 and 1\n",
    "#lets see through plt"
   ]
  },
  {
   "cell_type": "code",
   "execution_count": 27,
   "id": "109fca72-86ad-4918-8504-ba4b5ac8bbd0",
   "metadata": {},
   "outputs": [
    {
     "data": {
      "text/plain": [
       "torch.Size([32, 200])"
      ]
     },
     "execution_count": 27,
     "metadata": {},
     "output_type": "execute_result"
    }
   ],
   "source": [
    "h.shape"
   ]
  },
  {
   "cell_type": "code",
   "execution_count": 28,
   "id": "e9d11c8a-8c58-4cae-b53a-d30b10864b83",
   "metadata": {},
   "outputs": [
    {
     "data": {
      "text/plain": [
       "torch.Size([6400])"
      ]
     },
     "execution_count": 28,
     "metadata": {},
     "output_type": "execute_result"
    }
   ],
   "source": [
    "h.view(-1).shape"
   ]
  },
  {
   "cell_type": "code",
   "execution_count": 29,
   "id": "49673ed1-56e1-4b68-a296-e0fbad57c0d8",
   "metadata": {},
   "outputs": [
    {
     "data": {
      "image/png": "[encoded data removed]",
      "text/plain": [
       "<Figure size 640x480 with 1 Axes>"
      ]
     },
     "metadata": {},
     "output_type": "display_data"
    }
   ],
   "source": [
    "plt.hist(h.view(-1).tolist(), 50);\n",
    "# it is a problem because we know the graph of tanh flatterns at -1 & 1\n",
    "# also you can see from grad formula = 1-tanh**2, which makes grad = 0\n",
    "# which means it didn't backpropogate -> it stops back propogating\n",
    "# which makes the grad = 0 and never improving or learning\n",
    "# that makes the dead neurons and a permanent brain damage\n",
    "# and which mean their is is less trainnig for those neurons \n",
    "# bcz they update less frequently\n",
    "# not good specially at initiallization\n",
    "# also it is a problem of scaling and wide range\n",
    "# we found in main code -> hpreact = embcat @ W1 + b1\n",
    "# and here W1 and b1 is causing the issue\n",
    "# so we want this reactivation closer to zero\n",
    "# not exactly zero , sometimes it is improves little bit optimization\n",
    "# so that their is like a little bit variation and diversity in the original initiallization of neurons"
   ]
  },
  {
   "cell_type": "code",
   "execution_count": 30,
   "id": "bbdeb464-be7a-4751-801e-00f4ebc179a4",
   "metadata": {},
   "outputs": [
    {
     "data": {
      "image/png": "[encoded data removed]",
      "text/plain": [
       "<Figure size 640x480 with 1 Axes>"
      ]
     },
     "metadata": {},
     "output_type": "display_data"
    }
   ],
   "source": [
    "# so let see why that is\n",
    "# so we can see that the distribution of pre-activations is very very broad\n",
    "plt.hist(hpreact.view(-1).tolist(), 50);"
   ]
  },
  {
   "cell_type": "code",
   "execution_count": 31,
   "id": "d8c47f6b-ab0d-4b07-b680-a3dd26c09c99",
   "metadata": {},
   "outputs": [
    {
     "data": {
      "image/png": "[encoded data removed]",
      "text/plain": [
       "<Figure size 2000x1000 with 1 Axes>"
      ]
     },
     "metadata": {},
     "output_type": "display_data"
    }
   ],
   "source": [
    "plt.figure(figsize=(20,10))\n",
    "plt.show(plt.imshow(h.abs()>0.99, cmap='gray', interpolation='nearest'))\n",
    "# it is showing how many neurons are dead which is too many\n",
    "# white -> dead neurons"
   ]
  },
  {
   "cell_type": "code",
   "execution_count": 32,
   "id": "f1f88d31-b61e-4588-ab09-13ef8c9408a3",
   "metadata": {},
   "outputs": [
    {
     "data": {
      "text/plain": [
       "tensor([-0.0520,  0.2187, -0.0580,  0.0312,  0.1025, -0.0286, -0.0252, -0.0039,\n",
       "        -0.0014,  0.0656,  0.1515, -0.0458,  0.0007, -0.1682, -0.0619,  0.0301,\n",
       "        -0.0081, -0.1277, -0.2113, -0.0170,  0.1389,  0.1154,  0.1041, -0.0911,\n",
       "        -0.1418,  0.1026,  0.0999], grad_fn=<SelectBackward0>)"
      ]
     },
     "execution_count": 32,
     "metadata": {},
     "output_type": "execute_result"
    }
   ],
   "source": [
    "logits[0]\n",
    "#range is big  #loss at initialization is much"
   ]
  },
  {
   "cell_type": "code",
   "execution_count": 33,
   "id": "a68ccd59-f38e-4826-8eeb-02a779d55a65",
   "metadata": {},
   "outputs": [
    {
     "data": {
      "text/plain": [
       "(tensor([14.3245,  0.3374,  3.3011,  3.9548]),\n",
       " tensor([9.9995e-01, 8.4227e-07, 1.6315e-05, 3.1367e-05]),\n",
       " tensor(11.0234))"
      ]
     },
     "execution_count": 33,
     "metadata": {},
     "output_type": "execute_result"
    }
   ],
   "source": [
    "# 4-dimensional example of the issue\n",
    "#logits = torch.tensor([0.0,0.0,0.0,0.0]) normally distributed #loss-> 0.25\n",
    "# also randn is normally distributed like this \n",
    "# but what if we scale it by multiplying or adding \n",
    "# it increases the range of logit \n",
    "logits = torch.randn(4) * 10  \n",
    "# we found in main code logits = h @ W2 + b2\n",
    "# and here b2 and W2 is found out to be responsible for scaling\n",
    "# so we need to initiallize them as small as possible\n",
    "# so we should do b2 = 0 at initiallization\n",
    "# and W2 as small possible not exactly zero\n",
    "# so that the loss will come more close to normalize distribution (-torch.tensor(1/27.0).log())\n",
    "probs = torch.softmax(logits, dim=0)\n",
    "loss = -probs[2].log()\n",
    "logits, probs, loss"
   ]
  },
  {
   "cell_type": "code",
   "execution_count": 34,
   "id": "200e1b8e-db74-41d8-b767-c32b31cdd514",
   "metadata": {},
   "outputs": [
    {
     "data": {
      "text/plain": [
       "tensor(3.2958)"
      ]
     },
     "execution_count": 34,
     "metadata": {},
     "output_type": "execute_result"
    }
   ],
   "source": [
    "# at initiallizaation we expect much less loss or u can say noramlly distributed loss\n",
    "-torch.tensor(1/27.0).log()"
   ]
  },
  {
   "cell_type": "code",
   "execution_count": 69,
   "id": "5d1306f3-b009-49f7-9366-da28e4c47db3",
   "metadata": {},
   "outputs": [],
   "source": [
    "# import matplotlib\n",
    "# print(matplotlib.get_backend())"
   ]
  },
  {
   "cell_type": "code",
   "execution_count": null,
   "id": "f5db0ea3-1787-46ca-ab4d-a5025928ed0b",
   "metadata": {},
   "outputs": [],
   "source": []
  },
  {
   "cell_type": "code",
   "execution_count": null,
   "id": "e4a98cd8-a854-40da-8e57-71d1f05e61fc",
   "metadata": {},
   "outputs": [],
   "source": []
  },
  {
   "cell_type": "code",
   "execution_count": null,
   "id": "ba8f1517-f3a5-4dbd-b2ba-85e98a482bba",
   "metadata": {},
   "outputs": [],
   "source": []
  },
  {
   "cell_type": "code",
   "execution_count": null,
   "id": "8f5fb022-c301-4e31-bb3c-5780ca4472f0",
   "metadata": {},
   "outputs": [],
   "source": []
  },
  {
   "cell_type": "code",
   "execution_count": null,
   "id": "fa444ddd-21c3-477b-b3bf-6af55fe79e2d",
   "metadata": {},
   "outputs": [],
   "source": []
  }
 ],
 "metadata": {
  "kernelspec": {
   "display_name": "Python 3 (ipykernel)",
   "language": "python",
   "name": "python3"
  },
  "language_info": {
   "codemirror_mode": {
    "name": "ipython",
    "version": 3
   },
   "file_extension": ".py",
   "mimetype": "text/x-python",
   "name": "python",
   "nbconvert_exporter": "python",
   "pygments_lexer": "ipython3",
   "version": "3.12.7"
  }
 },
 "nbformat": 4,
 "nbformat_minor": 5
}

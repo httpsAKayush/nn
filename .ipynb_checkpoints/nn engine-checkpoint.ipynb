{
 "cells": [
  {
   "cell_type": "code",
   "execution_count": 1,
   "id": "56d0916b-2c9f-4b48-abd2-6e0b82ebd16b",
   "metadata": {},
   "outputs": [],
   "source": [
    "import math\n",
    "import numpy as np\n",
    "import matplotlib.pyplot as plt\n",
    "%matplotlib inline"
   ]
  },
  {
   "cell_type": "code",
   "execution_count": 2,
   "id": "efde50d4-8f3e-4066-81cb-baf0575a62bb",
   "metadata": {},
   "outputs": [],
   "source": [
    "def f(x):\n",
    "    return 3*x**2 - 4*x + 5"
   ]
  },
  {
   "cell_type": "code",
   "execution_count": 3,
   "id": "789dfd38-5f9a-4caf-9e0f-82d4267c1c65",
   "metadata": {},
   "outputs": [
    {
     "data": {
      "text/plain": [
       "20.0"
      ]
     },
     "execution_count": 3,
     "metadata": {},
     "output_type": "execute_result"
    }
   ],
   "source": [
    "f(3.0)"
   ]
  },
  {
   "cell_type": "code",
   "execution_count": 4,
   "id": "1e394171-a141-4f1c-ac34-6bec01a940a4",
   "metadata": {},
   "outputs": [
    {
     "data": {
      "text/plain": [
       "array([100.    ,  91.6875,  83.75  ,  76.1875,  69.    ,  62.1875,\n",
       "        55.75  ,  49.6875,  44.    ,  38.6875,  33.75  ,  29.1875,\n",
       "        25.    ,  21.1875,  17.75  ,  14.6875,  12.    ,   9.6875,\n",
       "         7.75  ,   6.1875,   5.    ,   4.1875,   3.75  ,   3.6875,\n",
       "         4.    ,   4.6875,   5.75  ,   7.1875,   9.    ,  11.1875,\n",
       "        13.75  ,  16.6875,  20.    ,  23.6875,  27.75  ,  32.1875,\n",
       "        37.    ,  42.1875,  47.75  ,  53.6875])"
      ]
     },
     "execution_count": 4,
     "metadata": {},
     "output_type": "execute_result"
    }
   ],
   "source": [
    "xs = np.arange(-5, 5, 0.25)\n",
    "ys = f(xs)\n",
    "ys"
   ]
  },
  {
   "cell_type": "code",
   "execution_count": 5,
   "id": "93331023-8a51-4e0a-8955-ea24ddce9fc1",
   "metadata": {},
   "outputs": [
    {
     "data": {
      "text/plain": [
       "[<matplotlib.lines.Line2D at 0x75d025a1d010>]"
      ]
     },
     "execution_count": 5,
     "metadata": {},
     "output_type": "execute_result"
    }
   ],
   "source": [
    "plt.plot(xs, ys)"
   ]
  },
  {
   "cell_type": "code",
   "execution_count": 6,
   "id": "3a66622b-af5f-414b-b780-c3f07384b162",
   "metadata": {},
   "outputs": [
    {
     "data": {
      "text/plain": [
       "20.00000140000003"
      ]
     },
     "execution_count": 6,
     "metadata": {},
     "output_type": "execute_result"
    }
   ],
   "source": [
    "h = 0.0000001\n",
    "x = 3\n",
    "f(x+h)"
   ]
  },
  {
   "cell_type": "code",
   "execution_count": 7,
   "id": "8ab884b7-df13-4916-b93d-e8a11206d26c",
   "metadata": {},
   "outputs": [
    {
     "data": {
      "text/plain": [
       "14.000000305713911"
      ]
     },
     "execution_count": 7,
     "metadata": {},
     "output_type": "execute_result"
    }
   ],
   "source": [
    "h = 0.0000001  #small increment\n",
    "#slope = (y(added increment) - y(initial))/ amt of increment in x\n",
    "(f(x + h) - f(x))/h"
   ]
  },
  {
   "cell_type": "code",
   "execution_count": 8,
   "id": "57d8c33e-080f-41b8-ac21-94ff414dde75",
   "metadata": {},
   "outputs": [
    {
     "data": {
      "text/plain": [
       "-22.00000039920269"
      ]
     },
     "execution_count": 8,
     "metadata": {},
     "output_type": "execute_result"
    }
   ],
   "source": [
    "h = 0.00000001\n",
    "x = -3\n",
    "(f(x+h) - f(x))/h"
   ]
  },
  {
   "cell_type": "code",
   "execution_count": 9,
   "id": "689fabb3-dc8a-49d3-b12d-aa95a6029e2c",
   "metadata": {},
   "outputs": [
    {
     "data": {
      "text/plain": [
       "0.0"
      ]
     },
     "execution_count": 9,
     "metadata": {},
     "output_type": "execute_result"
    }
   ],
   "source": [
    "h = 0.00000001\n",
    "x = 2/3\n",
    "(f(x+h) - f(x))/h"
   ]
  },
  {
   "cell_type": "code",
   "execution_count": 10,
   "id": "9fea97f3-ac09-449a-a12e-a9375bd036f4",
   "metadata": {},
   "outputs": [
    {
     "name": "stdout",
     "output_type": "stream",
     "text": [
      "4.0\n"
     ]
    }
   ],
   "source": [
    "# lets get more complex\n",
    "a = 2.0\n",
    "b = -3.0\n",
    "c = 10.0\n",
    "d = a*b + c\n",
    "print(d)"
   ]
  },
  {
   "cell_type": "code",
   "execution_count": 11,
   "id": "7f40d9d5-aefd-4c31-b2b2-36da10b9cc5c",
   "metadata": {},
   "outputs": [
    {
     "name": "stdout",
     "output_type": "stream",
     "text": [
      "d1:  4.0\n",
      "d2:  4.0001\n",
      "slope:  0.9999999999976694\n"
     ]
    }
   ],
   "source": [
    "h = 0.0001\n",
    "\n",
    "#inputs\n",
    "a = 2.0\n",
    "b = -3.0\n",
    "c = 10.0\n",
    "\n",
    "d1 = a*b + c\n",
    "#a += h\n",
    "#b+=h\n",
    "c+=h\n",
    "d2 = a*b +c\n",
    "print(\"d1: \",d1)\n",
    "print(\"d2: \",d2)\n",
    "print('slope: ',( (d2) - (d1) )/h)"
   ]
  },
  {
   "cell_type": "code",
   "execution_count": 421,
   "id": "b4210829-78fd-403a-84aa-5429ee524cd7",
   "metadata": {},
   "outputs": [],
   "source": [
    "# value object\n",
    "# takes a single scalar value that it wraps and keep tracks off\n",
    "class Value:\n",
    "    def __init__(self,data, _children=(),_op='', label=''):\n",
    "        self.data = data\n",
    "        self.grad = 0.0\n",
    "        self._backward = lambda: None\n",
    "        self._prev = set(_children)\n",
    "        self._op = _op\n",
    "        self.label= label\n",
    "        \n",
    "    \n",
    "    def __add__(self, other):\n",
    "        other = other if isinstance(other, Value) else Value(other)\n",
    "        out = Value(self.data + other.data, (self,other), '+')\n",
    "        \n",
    "        def _backward():\n",
    "            self.grad += 1.0 * out.grad\n",
    "            other.grad += 1.0 * out.grad\n",
    "        out._backward =  _backward   #we try to save these fxn not call the fxn bcz these fxn's return none, just want to store the fxn\n",
    "        return out\n",
    "\n",
    "    \n",
    "    def __mul__(self, other):\n",
    "        other = other if isinstance(other, Value) else Value(other)\n",
    "        out = Value(self.data * other.data, (self,other), '*')\n",
    "\n",
    "        def _backward():\n",
    "            self.grad += other.data * out.grad\n",
    "            other.grad += self.data * out.grad\n",
    "\n",
    "        out._backward = _backward\n",
    "        return out\n",
    "\n",
    "    def __pow__(self, other):\n",
    "        assert isinstance(other,(int,float)),\"only support int/float powers for now\"\n",
    "        out = Value(self.data**other, (self, ), f'**{other}')\n",
    "\n",
    "        def _backward():\n",
    "            self.grad += (other * self.data**(other-1)) * out.grad\n",
    "        out._backward = _backward\n",
    "        return out\n",
    "\n",
    "   \n",
    "    def tanh(self):\n",
    "        n = self.data\n",
    "        t = (math.exp(2*n)-1) / (math.exp(2*n) +1)\n",
    "        out = Value(t,(self,),'tanh')\n",
    "\n",
    "        def _backward():\n",
    "            self.grad += (1 - t**2) * out.grad\n",
    "        out._backward = _backward\n",
    "            \n",
    "        return out \n",
    "\n",
    "    def exp(self):\n",
    "        x = self.data\n",
    "        out = Value(math.exp(x),(self, ), 'exp')\n",
    "\n",
    "        def _backward():\n",
    "            self.grad += out.data * out.grad\n",
    "\n",
    "        out._backward= _backward\n",
    "        return out\n",
    "\n",
    "    def backward(self):\n",
    "        # made a graph of forward prop\n",
    "        topo = []\n",
    "        visited =set()\n",
    "        def build_topo(v):\n",
    "            if v not in visited:\n",
    "                visited.add(v)\n",
    "                for child in v._prev:\n",
    "                    build_topo(child)\n",
    "                topo.append(v)\n",
    "        build_topo(self)\n",
    "        \n",
    "        # set grad for output\n",
    "        self.grad = 1.0\n",
    "\n",
    "        #call _backward() in reverse of topo[]\n",
    "        for node in reversed(topo):\n",
    "            node._backward()\n",
    "        \n",
    "    def __neg__(self):\n",
    "        return self * -1\n",
    "\n",
    "    def __sub__(self, other):\n",
    "        return self + (-other)\n",
    "\n",
    "    def __rsub__(self,other):\n",
    "        return self - other\n",
    "\n",
    "    def __radd__(self,other):\n",
    "        return self + other  \n",
    "        \n",
    "    def __rmul__(self, other):   #other * self\n",
    "        return self * other\n",
    "\n",
    "    def __truediv__(self,other):   # a / b \n",
    "        return self * other**-1\n",
    "\n",
    "    def __rtruediv__(self,other):\n",
    "        return other * self**-1\n",
    "\n",
    "    def __repr__(self):       # wrapper function\n",
    "        return f\"Value(data={self.data})\"\n",
    "    \n",
    "\n",
    "            \n",
    "# a = Value(2.0, label = 'a')\n",
    "# b = Value(-3.0, label='b')\n",
    "# c = Value(10,label='c')\n",
    "# #a, b\n",
    "# #a + b #add two value objects #if we use this #python will internally call a.__add__(b)\n",
    "# e = a*b; e.label = 'e'\n",
    "# d = e+c; d.label = 'd'\n",
    "# f = Value(-2.0,label='f')\n",
    "# L=d*f\n",
    "# L"
   ]
  },
  {
   "cell_type": "code",
   "execution_count": 100,
   "id": "c07ad31e-9811-4a34-80ca-eaab72fb0086",
   "metadata": {},
   "outputs": [
    {
     "data": {
      "text/plain": [
       "Value(data=3.0)"
      ]
     },
     "execution_count": 100,
     "metadata": {},
     "output_type": "execute_result"
    }
   ],
   "source": [
    "a = Value(2.0)\n",
    "# how to handle non Value object\n",
    "a + 1  #for other -> check instance and make it Value"
   ]
  },
  {
   "cell_type": "code",
   "execution_count": 99,
   "id": "f6b92f6d-00e8-4679-85e2-b418140c9d6f",
   "metadata": {},
   "outputs": [
    {
     "data": {
      "text/plain": [
       "Value(data=4.0)"
      ]
     },
     "execution_count": 99,
     "metadata": {},
     "output_type": "execute_result"
    }
   ],
   "source": [
    "a = Value(2.0)\n",
    "2 * a\n",
    "#what it looks like\n",
    "# 2.__mul__(a)  #2 can't multiply Value\n",
    "# so python can't do it so it check is there an rmul in Value\n",
    "# so to tackle it we use rmul "
   ]
  },
  {
   "cell_type": "code",
   "execution_count": 103,
   "id": "f52f4722-a8ba-4d45-ba6a-4615ab2cb9d0",
   "metadata": {},
   "outputs": [
    {
     "data": {
      "text/plain": [
       "Value(data=0.5)"
      ]
     },
     "execution_count": 103,
     "metadata": {},
     "output_type": "execute_result"
    }
   ],
   "source": [
    "a =Value(2.0)\n",
    "b = Value(4.0)\n",
    "a / b"
   ]
  },
  {
   "cell_type": "raw",
   "id": "e5f405d8-1541-449c-9761-fb93d305067e",
   "metadata": {},
   "source": [
    "a / b\n",
    "a * (b**-1)\n"
   ]
  },
  {
   "cell_type": "code",
   "execution_count": 13,
   "id": "32f961f4-0435-4b30-b082-18b2035c01c1",
   "metadata": {},
   "outputs": [
    {
     "data": {
      "text/plain": [
       "{Value(data=-6.0), Value(data=10)}"
      ]
     },
     "execution_count": 13,
     "metadata": {},
     "output_type": "execute_result"
    }
   ],
   "source": [
    "d._prev"
   ]
  },
  {
   "cell_type": "raw",
   "id": "37f20044-909e-42d4-a27d-b30df81c161c",
   "metadata": {},
   "source": [
    "dd/dc = 1.0\n",
    "dd/de = 1.0\n",
    "d = c + e\n",
    "\n",
    "Want:\n",
    "dL/dc = dL/dd * dd/dc\n",
    "\n",
    "Know:\n",
    "dL/dd\n",
    "dd/dc"
   ]
  },
  {
   "cell_type": "code",
   "execution_count": 18,
   "id": "2e0debbc-f490-4556-8e96-0b5422efde08",
   "metadata": {},
   "outputs": [
    {
     "name": "stdout",
     "output_type": "stream",
     "text": [
      "3.9999999999995595\n"
     ]
    }
   ],
   "source": [
    "def lol():\n",
    "    h = 0.001\n",
    "\n",
    "    a = Value(2.0,label='a')\n",
    "    b= Value(-3.0,label='b')\n",
    "    c= Value(10.0,label='c')\n",
    "    e=a*b; e.label='e'\n",
    "    d=e+c; d.label='d'\n",
    "    f=Value(-2.0,label='f')\n",
    "    L=d*f; L.label='L'\n",
    "    L1=L.data\n",
    "\n",
    "    a = Value(2.0,label='a')\n",
    "    b= Value(-3.0,label='b')\n",
    "    c= Value(10.0,label='c')\n",
    "    e=a*b; e.label='e'\n",
    "    d=e+c; d.label='d'\n",
    "    f=Value(-2.0 + h,label='f')\n",
    "    L=d*f; L.label='L'\n",
    "    L2=L.data\n",
    "\n",
    "    print((L2-L1)/h)\n",
    "\n",
    "lol()\n",
    "    "
   ]
  },
  {
   "cell_type": "code",
   "execution_count": 85,
   "id": "80c0ac8d-7ada-479a-aaf5-fe308e88149e",
   "metadata": {},
   "outputs": [],
   "source": [
    "# input x1,x2\n",
    "x1 = Value(2.0)\n",
    "x2 = Value(0.0)\n",
    "# weights \n",
    "w1 = Value(-3.0)\n",
    "w2 = Value(1.0)\n",
    "#bias of the neuron\n",
    "b = Value(6.8813735870195432)\n",
    "#neuron = x1w1 + x2w2 + b\n",
    "x1w1 = x1*w1\n",
    "x2w2 = x2*w2\n",
    "x1w1x2w2 = x1w1 + x2w2\n",
    "n = x1w1x2w2 + b\n",
    "#activation fxn\n",
    "o = n.tanh()  #exp(2z)-1 / exp(2z)+1"
   ]
  },
  {
   "cell_type": "code",
   "execution_count": 86,
   "id": "1c218954-2b75-48cb-a45b-d1dd87ea25f3",
   "metadata": {},
   "outputs": [],
   "source": [
    "o.backward()"
   ]
  },
  {
   "cell_type": "code",
   "execution_count": 88,
   "id": "17d8d882-e7e5-414d-b7dc-da11b6f0d531",
   "metadata": {},
   "outputs": [
    {
     "name": "stdout",
     "output_type": "stream",
     "text": [
      "Grad: \n",
      "1.0\n",
      "0.4999999999999999\n",
      "0.4999999999999999\n",
      "0.4999999999999999\n",
      "0.4999999999999999\n",
      "0.4999999999999999\n",
      "-1.4999999999999996\n",
      "0.4999999999999999\n",
      "\n",
      "Data: \n",
      "0.7071067811865476\n",
      "0.8813735870195432\n",
      "-6.0\n",
      "6.881373587019543\n",
      "-6.0\n",
      "0.0\n",
      "2.0\n",
      "0.0\n"
     ]
    }
   ],
   "source": [
    "print('Grad: ')\n",
    "print(o.grad)\n",
    "print(n.grad)\n",
    "print(x1w1x2w2.grad)\n",
    "print(b.grad)\n",
    "print(x1w1.grad)\n",
    "print(x2w2.grad)\n",
    "print(x1.grad)\n",
    "print(x2.grad)\n",
    "print('')\n",
    "print('Data: ')\n",
    "print(o.data)\n",
    "print(n.data)\n",
    "print(x1w1x2w2.data)\n",
    "print(b.data)\n",
    "print(x1w1.data)\n",
    "print(x2w2.data)\n",
    "print(x1.data)\n",
    "print(x2.data)"
   ]
  },
  {
   "cell_type": "code",
   "execution_count": 76,
   "id": "42da3829-9eec-4a62-ae38-df2934b76306",
   "metadata": {},
   "outputs": [
    {
     "data": {
      "text/plain": [
       "[Value(data=6.881373587019543),\n",
       " Value(data=0.0),\n",
       " Value(data=1.0),\n",
       " Value(data=0.0),\n",
       " Value(data=-3.0),\n",
       " Value(data=2.0),\n",
       " Value(data=-6.0),\n",
       " Value(data=-6.0),\n",
       " Value(data=0.8813735870195432),\n",
       " Value(data=0.7071067811865476)]"
      ]
     },
     "execution_count": 76,
     "metadata": {},
     "output_type": "execute_result"
    }
   ],
   "source": [
    "topo = []\n",
    "visited =set()\n",
    "def build_topo(v):\n",
    "    if v not in visited:\n",
    "        visited.add(v)\n",
    "        for child in v._prev:\n",
    "            build_topo(child)\n",
    "        topo.append(v)\n",
    "build_topo(o)\n",
    "topo"
   ]
  },
  {
   "cell_type": "code",
   "execution_count": null,
   "id": "fc80cb56-ba66-4686-bf1a-2b362ec8cee9",
   "metadata": {},
   "outputs": [],
   "source": []
  },
  {
   "cell_type": "code",
   "execution_count": 70,
   "id": "a7bffa2a-c362-4883-b7bd-c2264cfe4d92",
   "metadata": {},
   "outputs": [],
   "source": [
    "o.grad= 1.0\n",
    "o._backward()"
   ]
  },
  {
   "cell_type": "code",
   "execution_count": 71,
   "id": "ed271f63-7007-42a2-ade7-d254622457d4",
   "metadata": {},
   "outputs": [
    {
     "data": {
      "text/plain": [
       "0.4999999999999999"
      ]
     },
     "execution_count": 71,
     "metadata": {},
     "output_type": "execute_result"
    }
   ],
   "source": [
    "n.grad"
   ]
  },
  {
   "cell_type": "code",
   "execution_count": 72,
   "id": "75ed7676-3fc9-4dae-b95b-75ba8ea9ac0a",
   "metadata": {},
   "outputs": [
    {
     "data": {
      "text/plain": [
       "0.0"
      ]
     },
     "execution_count": 72,
     "metadata": {},
     "output_type": "execute_result"
    }
   ],
   "source": [
    "x1w1x2w2.grad"
   ]
  },
  {
   "cell_type": "code",
   "execution_count": 73,
   "id": "5da64af5-ce15-48d2-b9cb-ae066af5aece",
   "metadata": {},
   "outputs": [
    {
     "data": {
      "text/plain": [
       "0.4999999999999999"
      ]
     },
     "execution_count": 73,
     "metadata": {},
     "output_type": "execute_result"
    }
   ],
   "source": [
    "n._backward()\n",
    "x1w1x2w2.grad"
   ]
  },
  {
   "cell_type": "code",
   "execution_count": 74,
   "id": "1e58c1db-a48d-4c4e-8b8b-2fd468dec7cb",
   "metadata": {},
   "outputs": [
    {
     "data": {
      "text/plain": [
       "0.4999999999999999"
      ]
     },
     "execution_count": 74,
     "metadata": {},
     "output_type": "execute_result"
    }
   ],
   "source": [
    "b.grad"
   ]
  },
  {
   "cell_type": "code",
   "execution_count": 75,
   "id": "1a887364-0189-49ba-a6b8-68abb264d23d",
   "metadata": {},
   "outputs": [
    {
     "data": {
      "text/plain": [
       "-1.4999999999999996"
      ]
     },
     "execution_count": 75,
     "metadata": {},
     "output_type": "execute_result"
    }
   ],
   "source": [
    "x1w1x2w2._backward()\n",
    "x1w1._backward()\n",
    "x2w2._backward()\n",
    "x1.grad"
   ]
  },
  {
   "cell_type": "code",
   "execution_count": 41,
   "id": "afb92633-3272-4ef3-b33f-7a791768e171",
   "metadata": {},
   "outputs": [],
   "source": [
    "x1.grad = w1.data * x1w1.grad  #chain rule\n",
    "w1.grad = x1.data * x1w1.grad"
   ]
  },
  {
   "cell_type": "code",
   "execution_count": null,
   "id": "4f936052-79ad-4ab2-afe0-e6da86da4f0a",
   "metadata": {},
   "outputs": [],
   "source": []
  },
  {
   "cell_type": "code",
   "execution_count": null,
   "id": "0b218172-d7c4-47e3-9943-8b91867a3c5b",
   "metadata": {},
   "outputs": [],
   "source": []
  },
  {
   "cell_type": "code",
   "execution_count": 40,
   "id": "e57ce16e-4f04-4304-887f-acc37b12f08c",
   "metadata": {},
   "outputs": [],
   "source": [
    "x2.grad = w2.data * x2w2.grad\n",
    "w2.grad = x2.data * x2w2.grad"
   ]
  },
  {
   "cell_type": "code",
   "execution_count": 39,
   "id": "078c295a-2f0b-4cd3-8eb9-1ace53707deb",
   "metadata": {},
   "outputs": [],
   "source": [
    "x1w1.grad = 0.5\n",
    "x2w2.grad=0.5"
   ]
  },
  {
   "cell_type": "code",
   "execution_count": 38,
   "id": "4aee374e-256c-4f1b-99c3-2fa31f0c123a",
   "metadata": {},
   "outputs": [],
   "source": [
    "x1w1x2w2.grad=0.5  #for (+) same as n.grad,  n = x1w1x2w2 + b\n",
    "b.grad=0.5"
   ]
  },
  {
   "cell_type": "code",
   "execution_count": 37,
   "id": "a1b12763-1964-4ccb-97c5-9711907e94bf",
   "metadata": {},
   "outputs": [],
   "source": [
    "n.grad = 0.5  "
   ]
  },
  {
   "cell_type": "code",
   "execution_count": 36,
   "id": "99410009-2fec-4620-a679-c80a8a9a39d1",
   "metadata": {},
   "outputs": [],
   "source": [
    "o.grad=1.0"
   ]
  },
  {
   "cell_type": "code",
   "execution_count": 29,
   "id": "265fddaf-83b0-429e-be10-d148973f68a4",
   "metadata": {},
   "outputs": [
    {
     "data": {
      "text/plain": [
       "0.4999999999999999"
      ]
     },
     "execution_count": 29,
     "metadata": {},
     "output_type": "execute_result"
    }
   ],
   "source": [
    "# o = tanh()\n",
    "# do/dn = 1 - o**2\n",
    "1 - o.data**2  #n.grad   #go up to see how manual backward is going "
   ]
  },
  {
   "cell_type": "code",
   "execution_count": 93,
   "id": "1c68bafe-aa00-4584-ba25-487edfb6148f",
   "metadata": {},
   "outputs": [
    {
     "name": "stdout",
     "output_type": "stream",
     "text": [
      "6.0\n",
      "3.0\n",
      "\n",
      "1.0\n",
      "2.0\n"
     ]
    }
   ],
   "source": [
    "# bug\n",
    "a = Value(3.0)\n",
    "b = a + a  #2a #grad = 2.0  \n",
    "#here self and other is exactly the same so we are overriding with this statement\n",
    "# self.grad = 1.0 * out.grad   #a.grad\n",
    "# other.grad = 1.0 * out.grad  #a.grad\n",
    "\n",
    "b.backward()\n",
    "\n",
    "print(b.data)\n",
    "print(a.data)\n",
    "print('')\n",
    "print(b.grad)\n",
    "print(a.grad)\n",
    "\n",
    "# we can do #self.grad += 1.0 * out.grad\n",
    "            #other.grad += 1.0 * out.grad"
   ]
  },
  {
   "cell_type": "code",
   "execution_count": 105,
   "id": "99831440-147f-41f0-960f-cb28b19438d3",
   "metadata": {},
   "outputs": [],
   "source": [
    "# input x1,x2\n",
    "x1 = Value(2.0)\n",
    "x2 = Value(0.0)\n",
    "# weights \n",
    "w1 = Value(-3.0)\n",
    "w2 = Value(1.0)\n",
    "#bias of the neuron\n",
    "b = Value(6.8813735870195432)\n",
    "#neuron = x1w1 + x2w2 + b\n",
    "x1w1 = x1*w1\n",
    "x2w2 = x2*w2\n",
    "x1w1x2w2 = x1w1 + x2w2\n",
    "n = x1w1x2w2 + b\n",
    "#activation fxn\n",
    "#o = n.tanh()  #exp(2z)-1 / exp(2z)+1\n",
    "e = (2*n).exp()\n",
    "o = (e - 1) / (e + 1)\n",
    "o.backward()"
   ]
  },
  {
   "cell_type": "code",
   "execution_count": 106,
   "id": "cf51c201-35ae-4462-b7bc-2d5996604004",
   "metadata": {},
   "outputs": [
    {
     "name": "stdout",
     "output_type": "stream",
     "text": [
      "Grad: \n",
      "1.0\n",
      "0.5\n",
      "0.5\n",
      "0.5\n",
      "0.5\n",
      "0.5\n",
      "-1.5\n",
      "0.5\n",
      "\n",
      "Data: \n",
      "0.7071067811865477\n",
      "0.8813735870195432\n",
      "-6.0\n",
      "6.881373587019543\n",
      "-6.0\n",
      "0.0\n",
      "2.0\n",
      "0.0\n"
     ]
    }
   ],
   "source": [
    "print('Grad: ')\n",
    "print(o.grad)\n",
    "print(n.grad)\n",
    "print(x1w1x2w2.grad)\n",
    "print(b.grad)\n",
    "print(x1w1.grad)\n",
    "print(x2w2.grad)\n",
    "print(x1.grad)\n",
    "print(x2.grad)\n",
    "print('')\n",
    "print('Data: ')\n",
    "print(o.data)\n",
    "print(n.data)\n",
    "print(x1w1x2w2.data)\n",
    "print(b.data)\n",
    "print(x1w1.data)\n",
    "print(x2w2.data)\n",
    "print(x1.data)\n",
    "print(x2.data)"
   ]
  },
  {
   "cell_type": "code",
   "execution_count": 116,
   "id": "bcc52263-9ef2-40c9-a821-fc300d7b136c",
   "metadata": {},
   "outputs": [
    {
     "name": "stdout",
     "output_type": "stream",
     "text": [
      "0.7071066904050358\n",
      "____\n",
      "x2 0.5000001283844369\n",
      "w2 0.0\n",
      "x1 -1.5000003851533106\n",
      "w1 1.0000002567688737\n",
      "b 0.5000001283844369\n"
     ]
    }
   ],
   "source": [
    "import torch\n",
    "\n",
    "x1 = torch.Tensor([2.0]).double()                    ; x1.requires_grad = True\n",
    "x2 = torch.Tensor([0.0]).double()                    ; x2.requires_grad = True\n",
    "w1 = torch.Tensor([-3.0]).double()                    ; w1.requires_grad = True\n",
    "w2 = torch.Tensor([1.0]).double()                    ; w2.requires_grad = True\n",
    "b = torch.Tensor([6.8813735870195432]).double()                    ; b.requires_grad = True\n",
    "n = x1*w1 + x2*w2 + b\n",
    "o = torch.tanh(n)\n",
    "\n",
    "print(o.data.item())\n",
    "o.backward()\n",
    "\n",
    "print('____')\n",
    "print('x2', x2.grad.item())\n",
    "print('w2', w2.grad.item())\n",
    "print('x1', x1.grad.item())\n",
    "print('w1', w1.grad.item())\n",
    "print('b', b.grad.item())"
   ]
  },
  {
   "cell_type": "code",
   "execution_count": 111,
   "id": "e33198a0-9acc-4e2b-8199-4fce2875299c",
   "metadata": {},
   "outputs": [
    {
     "data": {
      "text/plain": [
       "torch.Size([2, 3])"
      ]
     },
     "execution_count": 111,
     "metadata": {},
     "output_type": "execute_result"
    }
   ],
   "source": [
    "torch.tensor([[1,2,3],[4,5,6]]).shape"
   ]
  },
  {
   "cell_type": "code",
   "execution_count": 113,
   "id": "73711f84-0d93-4676-a9cb-d557f9d95f56",
   "metadata": {},
   "outputs": [
    {
     "data": {
      "text/plain": [
       "tensor([2.])"
      ]
     },
     "execution_count": 113,
     "metadata": {},
     "output_type": "execute_result"
    }
   ],
   "source": [
    "torch.tensor([2.0])"
   ]
  },
  {
   "cell_type": "code",
   "execution_count": 114,
   "id": "47656eac-3aea-4112-a32f-b346bdb943fc",
   "metadata": {},
   "outputs": [
    {
     "data": {
      "text/plain": [
       "torch.float32"
      ]
     },
     "execution_count": 114,
     "metadata": {},
     "output_type": "execute_result"
    }
   ],
   "source": [
    "torch.tensor([2.0]).dtype"
   ]
  },
  {
   "cell_type": "code",
   "execution_count": 115,
   "id": "4b0810ef-d65b-456c-8064-150f3cee3e81",
   "metadata": {},
   "outputs": [
    {
     "data": {
      "text/plain": [
       "torch.float64"
      ]
     },
     "execution_count": 115,
     "metadata": {},
     "output_type": "execute_result"
    }
   ],
   "source": [
    "torch.tensor([2.0]).double().dtype"
   ]
  },
  {
   "cell_type": "code",
   "execution_count": 117,
   "id": "fff4b6de-4029-4262-977f-227edb7a3769",
   "metadata": {},
   "outputs": [
    {
     "data": {
      "text/plain": [
       "tensor([0.7071], dtype=torch.float64, grad_fn=<TanhBackward0>)"
      ]
     },
     "execution_count": 117,
     "metadata": {},
     "output_type": "execute_result"
    }
   ],
   "source": [
    "o"
   ]
  },
  {
   "cell_type": "code",
   "execution_count": 118,
   "id": "f64314f3-380a-4f51-b66c-8ae7cbfbffde",
   "metadata": {},
   "outputs": [
    {
     "data": {
      "text/plain": [
       "0.7071066904050358"
      ]
     },
     "execution_count": 118,
     "metadata": {},
     "output_type": "execute_result"
    }
   ],
   "source": [
    "o.item()"
   ]
  },
  {
   "cell_type": "code",
   "execution_count": 120,
   "id": "42399407-a906-42f6-b311-53a44510469d",
   "metadata": {},
   "outputs": [
    {
     "data": {
      "text/plain": [
       "tensor([0.5000], dtype=torch.float64)"
      ]
     },
     "execution_count": 120,
     "metadata": {},
     "output_type": "execute_result"
    }
   ],
   "source": [
    "x2.grad"
   ]
  },
  {
   "cell_type": "code",
   "execution_count": 121,
   "id": "292ad61c-3c96-446d-bbd4-1658a1790134",
   "metadata": {},
   "outputs": [
    {
     "data": {
      "text/plain": [
       "0.5000001283844369"
      ]
     },
     "execution_count": 121,
     "metadata": {},
     "output_type": "execute_result"
    }
   ],
   "source": [
    "x2.grad.item()"
   ]
  },
  {
   "cell_type": "markdown",
   "id": "5b340828-7da9-4002-b00f-e8e98f41ecc8",
   "metadata": {},
   "source": [
    "# neural network"
   ]
  },
  {
   "cell_type": "code",
   "execution_count": 125,
   "id": "b4749a38-7517-4607-9fbd-92e8a16d22e1",
   "metadata": {},
   "outputs": [
    {
     "data": {
      "text/plain": [
       "0.0"
      ]
     },
     "execution_count": 125,
     "metadata": {},
     "output_type": "execute_result"
    }
   ],
   "source": [
    "import random\n",
    "\n",
    "class Neuron:\n",
    "    def __init__(self,nin):\n",
    "        self.w = [Value(random.uniform(-1,1)) for _ in range(nin)]  #range(2) #[Value(-0.69), Value(0.37)]\n",
    "        self.b = Value(random.uniform(-1,1))\n",
    "\n",
    "\n",
    "    def __call__(self, x):\n",
    "        # w * x + b\n",
    "        return 0.0\n",
    "\n",
    "x = [2.0,3.0]\n",
    "n = Neuron(2)\n",
    "n(x)"
   ]
  },
  {
   "cell_type": "code",
   "execution_count": 126,
   "id": "2f5e79f3-4324-4c91-8da4-e8fe7ba81477",
   "metadata": {},
   "outputs": [
    {
     "name": "stdout",
     "output_type": "stream",
     "text": [
      "[(Value(data=0.8707629915435444), 2.0), (Value(data=0.599540236653215), 3.0)]\n"
     ]
    }
   ],
   "source": [
    "import random\n",
    "\n",
    "class Neuron:\n",
    "    def __init__(self,nin):\n",
    "        self.w = [Value(random.uniform(-1,1)) for _ in range(nin)]  #range(2) #[Value(-0.69), Value(0.37)]\n",
    "        self.b = Value(random.uniform(-1,1))\n",
    "\n",
    "\n",
    "    def __call__(self, x):\n",
    "        # w * x + b\n",
    "        print (list(zip(self.w,x)))\n",
    "\n",
    "x = [2.0,3.0]\n",
    "n = Neuron(2)\n",
    "n(x)"
   ]
  },
  {
   "cell_type": "code",
   "execution_count": 141,
   "id": "d774c6ba-dccc-46e5-b670-bf99d4b06aa9",
   "metadata": {},
   "outputs": [
    {
     "data": {
      "text/plain": [
       "Value(data=-0.5794388038824165)"
      ]
     },
     "execution_count": 141,
     "metadata": {},
     "output_type": "execute_result"
    }
   ],
   "source": [
    "import random\n",
    "\n",
    "class Neuron:\n",
    "    def __init__(self,nin):\n",
    "        self.w = [Value(random.uniform(-1,1)) for _ in range(nin)]  #range(2) #[Value(-0.69), Value(0.37)]\n",
    "        self.b = Value(random.uniform(-1,1))\n",
    "\n",
    "\n",
    "    def __call__(self, x):\n",
    "        # w * x + b\n",
    "        \n",
    "        act = sum((wi*xi for wi, xi in zip(self.w, x)), self.b)\n",
    "        out = act.tanh()\n",
    "        return out\n",
    "\n",
    "x = [2.0, 3.0]\n",
    "n = Neuron(2)\n",
    "n(x)"
   ]
  },
  {
   "cell_type": "code",
   "execution_count": 143,
   "id": "691720ce-701a-492d-bbc8-781ba5d635d9",
   "metadata": {},
   "outputs": [
    {
     "data": {
      "text/plain": [
       "[Value(data=0.38553385547933594),\n",
       " Value(data=0.91534168928875),\n",
       " Value(data=-0.9863564437059853)]"
      ]
     },
     "execution_count": 143,
     "metadata": {},
     "output_type": "execute_result"
    }
   ],
   "source": [
    "import random\n",
    "\n",
    "class Neuron:\n",
    "    def __init__(self,nin):\n",
    "        self.w = [Value(random.uniform(-1,1)) for _ in range(nin)]  #range(2) #[Value(-0.69), Value(0.37)]\n",
    "        self.b = Value(random.uniform(-1,1))\n",
    "\n",
    "\n",
    "    def __call__(self, x):\n",
    "        # w * x + b\n",
    "        \n",
    "        act = sum((wi*xi for wi, xi in zip(self.w, x)), self.b)\n",
    "        out = act.tanh()\n",
    "        return out\n",
    "\n",
    "class Layer:\n",
    "    def __init__(self, nin, nout):\n",
    "        self.neurons = [Neuron(nin) for _ in range(nout)]\n",
    "\n",
    "    def __call__(self, x):\n",
    "        outs = [n(x) for n in self.neurons]\n",
    "        return outs\n",
    "\n",
    "x = [2.0, 3.0]\n",
    "n = Layer(2,3)\n",
    "n(x)"
   ]
  },
  {
   "cell_type": "code",
   "execution_count": 145,
   "id": "0f9dffe6-db3b-4b19-9e2d-5e604174b5d0",
   "metadata": {},
   "outputs": [
    {
     "data": {
      "text/plain": [
       "[Value(data=0.15893821953697215)]"
      ]
     },
     "execution_count": 145,
     "metadata": {},
     "output_type": "execute_result"
    }
   ],
   "source": [
    "import random\n",
    "\n",
    "class Neuron:\n",
    "    def __init__(self,nin):\n",
    "        self.w = [Value(random.uniform(-1,1)) for _ in range(nin)]  #range(2) #[Value(-0.69), Value(0.37)]\n",
    "        self.b = Value(random.uniform(-1,1))\n",
    "\n",
    "\n",
    "    def __call__(self, x):\n",
    "        # w * x + b\n",
    "        \n",
    "        act = sum((wi*xi for wi, xi in zip(self.w, x)), self.b)\n",
    "        out = act.tanh()\n",
    "        return out\n",
    "\n",
    "class Layer:\n",
    "    def __init__(self, nin, nout):\n",
    "        self.neurons = [Neuron(nin) for _ in range(nout)]\n",
    "\n",
    "    def __call__(self, x):\n",
    "        outs = [n(x) for n in self.neurons]\n",
    "        return outs\n",
    "\n",
    "class MLP:\n",
    "    def __init__(self, nin, nouts):\n",
    "        sz = [nin] + nouts\n",
    "        self.layers = [Layer(sz[i], sz[i+1]) for i in range(len(nouts))]\n",
    "\n",
    "    def __call__(self, x):\n",
    "        for layer in self.layers:\n",
    "            x = layer(x)\n",
    "        return x\n",
    "\n",
    "x = [2.0, 3.0, -1.0]\n",
    "n = MLP(3,[4,4,1])\n",
    "n(x)"
   ]
  },
  {
   "cell_type": "code",
   "execution_count": 322,
   "id": "bdfcd3f1-a341-4ed9-af18-efc2e97e5282",
   "metadata": {},
   "outputs": [],
   "source": [
    "import random\n",
    "\n",
    "class Neuron:\n",
    "    def __init__(self,nin):\n",
    "        self.w = [Value(random.uniform(-1,1)) for _ in range(nin)]  #range(2) #[Value(-0.69), Value(0.37)]\n",
    "        self.b = Value(random.uniform(-1,1))\n",
    "\n",
    "\n",
    "    def __call__(self, x):\n",
    "        # w * x + b\n",
    "        \n",
    "        act = sum((wi*xi for wi, xi in zip(self.w, x)), self.b)\n",
    "        out = act.tanh()\n",
    "        return out\n",
    "\n",
    "    def parameters(self):\n",
    "        return self.w + [self.b]\n",
    "\n",
    "class Layer:\n",
    "    def __init__(self, nin, nout):\n",
    "        self.neurons = [Neuron(nin) for _ in range(nout)]\n",
    "\n",
    "    def __call__(self, x):\n",
    "        outs = [n(x) for n in self.neurons]\n",
    "        return outs[0] if len(outs)== 1 else outs\n",
    "\n",
    "    def parameters(self):\n",
    "        return [p for neuron in self.neurons for p in neuron.parameters()]\n",
    "        # params = []\n",
    "        # for neuron in self.neurons:\n",
    "        #     ps = neuron.parameters()\n",
    "        #     params.extend(ps)\n",
    "        # return params\n",
    "        \n",
    "\n",
    "class MLP:\n",
    "    def __init__(self, nin, nouts):\n",
    "        sz = [nin] + nouts\n",
    "        self.layers = [Layer(sz[i], sz[i+1]) for i in range(len(nouts))]\n",
    "\n",
    "    def __call__(self, x):\n",
    "        for layer in self.layers:\n",
    "            x = layer(x)\n",
    "        return x\n",
    "\n",
    "    def parameters(self):\n",
    "        return [p for layer in self.layers for p in layer.parameters()]\n",
    "\n"
   ]
  },
  {
   "cell_type": "code",
   "execution_count": 323,
   "id": "5c7ee4d1-2ec8-40a7-ac84-072a840f6b96",
   "metadata": {},
   "outputs": [
    {
     "data": {
      "text/plain": [
       "Value(data=0.96615215985935)"
      ]
     },
     "execution_count": 323,
     "metadata": {},
     "output_type": "execute_result"
    }
   ],
   "source": [
    "x = [2.0, 3.0, -1.0]\n",
    "n = MLP(3,[4,4,1])\n",
    "n(x)"
   ]
  },
  {
   "cell_type": "code",
   "execution_count": 324,
   "id": "c4e3cde9-4c31-40da-af42-d0001e158b33",
   "metadata": {},
   "outputs": [
    {
     "data": {
      "text/plain": [
       "41"
      ]
     },
     "execution_count": 324,
     "metadata": {},
     "output_type": "execute_result"
    }
   ],
   "source": [
    "len(n.parameters())"
   ]
  },
  {
   "cell_type": "code",
   "execution_count": 325,
   "id": "bd7ca362-7906-4228-a5e9-81653540749e",
   "metadata": {},
   "outputs": [
    {
     "data": {
      "text/plain": [
       "[Value(data=-0.4904489811131403),\n",
       " Value(data=0.8312531004422432),\n",
       " Value(data=-0.13946289619646435),\n",
       " Value(data=-0.14561578053502),\n",
       " Value(data=0.5226617483723242),\n",
       " Value(data=-0.31302393606954104),\n",
       " Value(data=0.2725267912948033),\n",
       " Value(data=-0.6403994444964625),\n",
       " Value(data=0.5838188767842292),\n",
       " Value(data=0.45752598342108164),\n",
       " Value(data=-0.9055779638605794),\n",
       " Value(data=0.08619192596984293),\n",
       " Value(data=0.7784247874029366),\n",
       " Value(data=0.6544559038562645),\n",
       " Value(data=-0.4540720650459096),\n",
       " Value(data=0.8207099492216854),\n",
       " Value(data=0.5497328787222144),\n",
       " Value(data=-0.5325873969693267),\n",
       " Value(data=-0.6083734617266312),\n",
       " Value(data=-0.6848413973111032),\n",
       " Value(data=0.9946235729623591),\n",
       " Value(data=-0.8520280615571196),\n",
       " Value(data=-0.8110113266352534),\n",
       " Value(data=-0.5976437041242857),\n",
       " Value(data=0.8832933689060389),\n",
       " Value(data=0.6797848298714642),\n",
       " Value(data=-0.24217058490228927),\n",
       " Value(data=-0.32910136486272656),\n",
       " Value(data=0.5651328122597488),\n",
       " Value(data=0.8293468605082543),\n",
       " Value(data=-0.1472314615417083),\n",
       " Value(data=0.9563559235441157),\n",
       " Value(data=-0.8499134502122148),\n",
       " Value(data=-0.37917270375216905),\n",
       " Value(data=-0.1744430326456432),\n",
       " Value(data=0.6787739115000033),\n",
       " Value(data=-0.05208258770945107),\n",
       " Value(data=0.7835921611854044),\n",
       " Value(data=0.7942290488629786),\n",
       " Value(data=0.6595591138601444),\n",
       " Value(data=0.2896433920014092)]"
      ]
     },
     "execution_count": 325,
     "metadata": {},
     "output_type": "execute_result"
    }
   ],
   "source": [
    "n.parameters()"
   ]
  },
  {
   "cell_type": "code",
   "execution_count": 326,
   "id": "84c4d2c1-508b-46da-845c-d29d21e92365",
   "metadata": {},
   "outputs": [
    {
     "data": {
      "text/plain": [
       "[Value(data=0.96615215985935),\n",
       " Value(data=0.7677344821311892),\n",
       " Value(data=0.960264561032948),\n",
       " Value(data=0.9712892379022011)]"
      ]
     },
     "execution_count": 326,
     "metadata": {},
     "output_type": "execute_result"
    }
   ],
   "source": [
    "xs = [\n",
    "    [2.0,3.0,-1.0],\n",
    "    [3.0,-1.0,0.5],\n",
    "    [0.5,1.0,1.0],\n",
    "    [1.0,1.0,-1.0],\n",
    "]\n",
    "ys = [1.0,-1.0,-1.0,1.0] #desired targets\n",
    "ypred = [n(x) for x in xs]\n",
    "ypred"
   ]
  },
  {
   "cell_type": "code",
   "execution_count": 179,
   "id": "d776bd91-0b39-465e-851f-2bf5eca6253f",
   "metadata": {},
   "outputs": [
    {
     "data": {
      "text/plain": [
       "Value(data=4.875714920658209)"
      ]
     },
     "execution_count": 179,
     "metadata": {},
     "output_type": "execute_result"
    }
   ],
   "source": [
    "loss = sum([(yout - ygt)**2 for ygt, yout in zip(ys, ypred)])\n",
    "\n",
    "\n",
    "#sum() underhood:\n",
    "# total = 0\n",
    "# for x in loss:\n",
    "#     total = total + x  # ← this is where it fails\n",
    "#int + Value  →  Value.__radd__(int)\n",
    "#so that's why also __rsum__ is important\n",
    "loss"
   ]
  },
  {
   "cell_type": "code",
   "execution_count": 180,
   "id": "49c56029-f3e3-4b7c-8ec5-cbe54c20279f",
   "metadata": {},
   "outputs": [],
   "source": [
    "loss.backward()"
   ]
  },
  {
   "cell_type": "code",
   "execution_count": 181,
   "id": "1b5d024a-29bf-4cbe-88ce-08fa2dc23408",
   "metadata": {},
   "outputs": [
    {
     "data": {
      "text/plain": [
       "-0.07282151852685531"
      ]
     },
     "execution_count": 181,
     "metadata": {},
     "output_type": "execute_result"
    }
   ],
   "source": [
    "n.layers[0].neurons[0].w[0].grad"
   ]
  },
  {
   "cell_type": "code",
   "execution_count": 182,
   "id": "9835c6f1-c5bd-4061-89e9-32aeca9eda04",
   "metadata": {},
   "outputs": [
    {
     "data": {
      "text/plain": [
       "0.8770711230548858"
      ]
     },
     "execution_count": 182,
     "metadata": {},
     "output_type": "execute_result"
    }
   ],
   "source": [
    "n.layers[0].neurons[0].w[0].data"
   ]
  },
  {
   "cell_type": "code",
   "execution_count": 186,
   "id": "cb3a2ce2-5a1f-4ec7-ad06-1960fa675f4c",
   "metadata": {},
   "outputs": [],
   "source": [
    "for p in n.parameters():\n",
    "    p.data += -0.1 * p.grad"
   ]
  },
  {
   "cell_type": "code",
   "execution_count": 187,
   "id": "b5e87837-36c4-4ec7-b595-3531b2ec0134",
   "metadata": {},
   "outputs": [
    {
     "data": {
      "text/plain": [
       "0.8843532749075713"
      ]
     },
     "execution_count": 187,
     "metadata": {},
     "output_type": "execute_result"
    }
   ],
   "source": [
    "n.layers[0].neurons[0].w[0].data"
   ]
  },
  {
   "cell_type": "code",
   "execution_count": 373,
   "id": "d62fdb34-9c8d-4a54-874a-1737c8db16d8",
   "metadata": {},
   "outputs": [],
   "source": [
    "#final\n",
    "xs = [\n",
    "    [2.0,3.0,-1.0],\n",
    "    [3.0,-1.0,0.5],\n",
    "    [0.5,1.0,1.0],\n",
    "    [1.0,1.0,-1.0],\n",
    "]\n",
    "ys = [1.0,-1.0,-1.0,1.0] #desired targets\n",
    "n = MLP(3,[4,4,1])"
   ]
  },
  {
   "cell_type": "code",
   "execution_count": 420,
   "id": "4cde4d93-6712-4ff0-80b0-5eafb034319b",
   "metadata": {},
   "outputs": [
    {
     "name": "stdout",
     "output_type": "stream",
     "text": [
      "0 0.0035649437684168294\n",
      "1 0.003561286448930545\n",
      "2 0.0035576364366014016\n",
      "3 0.0035539937097874177\n",
      "4 0.0035503582469315976\n",
      "5 0.0035467300265612308\n",
      "6 0.003543109027287735\n",
      "7 0.00353949522780611\n",
      "8 0.0035358886068945503\n",
      "9 0.0035322891434140915\n",
      "10 0.0035286968163081205\n",
      "11 0.0035251116046021128\n",
      "12 0.0035215334874030644\n",
      "13 0.003517962443899225\n",
      "14 0.0035143984533596634\n",
      "15 0.0035108414951338747\n",
      "16 0.0035072915486514017\n",
      "17 0.0035037485934214098\n",
      "18 0.003500212609032401\n",
      "19 0.0034966835751516967\n"
     ]
    }
   ],
   "source": [
    "#final\n",
    "for k in range(20):\n",
    "    \n",
    "    # forward pass\n",
    "    ypred = [n(x) for x in xs]\n",
    "    loss = sum([(yout - ygt)**2 for ygt, yout in zip(ys, ypred)])\n",
    "\n",
    "    #backward pass\n",
    "    for p in n.parameters():\n",
    "        p.grad=0.0\n",
    "    loss.backward()\n",
    "    \n",
    "    #upgrade    \n",
    "    for p in n.parameters():\n",
    "        p.data += -0.01 * p.grad\n",
    "\n",
    "    print(k,loss.data)"
   ]
  },
  {
   "cell_type": "code",
   "execution_count": 407,
   "id": "03ec61f6-d880-4b3d-9de7-bf30185a7da2",
   "metadata": {},
   "outputs": [],
   "source": [
    "loss.backward()"
   ]
  },
  {
   "cell_type": "code",
   "execution_count": 305,
   "id": "8641aaef-a9ae-4d2f-8f03-270f91364b2e",
   "metadata": {},
   "outputs": [],
   "source": [
    "for p in n.parameters():\n",
    "    p.data += -0.01 * p.grad"
   ]
  },
  {
   "cell_type": "code",
   "execution_count": 404,
   "id": "d3d9d396-48ca-4cce-bbc1-204ddc8ad132",
   "metadata": {},
   "outputs": [
    {
     "data": {
      "text/plain": [
       "[Value(data=0.8124145462310607),\n",
       " Value(data=-0.8839709903388817),\n",
       " Value(data=-0.8010888152373391),\n",
       " Value(data=0.7787660186259736)]"
      ]
     },
     "execution_count": 404,
     "metadata": {},
     "output_type": "execute_result"
    }
   ],
   "source": [
    "ypred"
   ]
  },
  {
   "cell_type": "code",
   "execution_count": 308,
   "id": "8f07dee9-ffd5-49a3-b971-3dc6840fffe9",
   "metadata": {},
   "outputs": [
    {
     "data": {
      "text/plain": [
       "[Value(data=0.38065582365351036),\n",
       " Value(data=0.9019557540224278),\n",
       " Value(data=-0.8117925204487119),\n",
       " Value(data=-0.6283424886959319),\n",
       " Value(data=-0.529147711888393),\n",
       " Value(data=-0.2803609975072665),\n",
       " Value(data=-0.7886564837908899),\n",
       " Value(data=0.3313274593849759),\n",
       " Value(data=-0.4191802123886141),\n",
       " Value(data=0.6342356106294995),\n",
       " Value(data=-0.24220273866871428),\n",
       " Value(data=-0.17106509048647034),\n",
       " Value(data=-0.5901693513574958),\n",
       " Value(data=-0.15902011954483758),\n",
       " Value(data=1.1175858587966523),\n",
       " Value(data=0.3300491558412355),\n",
       " Value(data=1.1222062850071608),\n",
       " Value(data=-0.17070147704597877),\n",
       " Value(data=-0.49550382167408613),\n",
       " Value(data=-0.5894393611189681),\n",
       " Value(data=-0.3814071125559665),\n",
       " Value(data=1.0572553242960419),\n",
       " Value(data=0.7311064404516243),\n",
       " Value(data=0.12551727708663307),\n",
       " Value(data=-0.8334521433370706),\n",
       " Value(data=0.36067816129829816),\n",
       " Value(data=-0.7727997882115829),\n",
       " Value(data=-0.4995713821587709),\n",
       " Value(data=-0.6648057906003461),\n",
       " Value(data=-0.18991026058154367),\n",
       " Value(data=-0.7944765353957536),\n",
       " Value(data=0.5966652526070086),\n",
       " Value(data=0.2511590957635385),\n",
       " Value(data=-0.05025183197823089),\n",
       " Value(data=-0.9618176360823606),\n",
       " Value(data=-0.06820009376000831),\n",
       " Value(data=0.4992948763677344),\n",
       " Value(data=1.0931245225262232),\n",
       " Value(data=-1.134596960551052),\n",
       " Value(data=0.6151866697955168),\n",
       " Value(data=-0.024051271824621197)]"
      ]
     },
     "execution_count": 308,
     "metadata": {},
     "output_type": "execute_result"
    }
   ],
   "source": [
    "n.parameters()"
   ]
  },
  {
   "cell_type": "code",
   "execution_count": null,
   "id": "2b342c3c-3a5e-472a-9807-6be78b29cba9",
   "metadata": {},
   "outputs": [],
   "source": []
  }
 ],
 "metadata": {
  "kernelspec": {
   "display_name": "Python 3 (ipykernel)",
   "language": "python",
   "name": "python3"
  },
  "language_info": {
   "codemirror_mode": {
    "name": "ipython",
    "version": 3
   },
   "file_extension": ".py",
   "mimetype": "text/x-python",
   "name": "python",
   "nbconvert_exporter": "python",
   "pygments_lexer": "ipython3",
   "version": "3.12.7"
  }
 },
 "nbformat": 4,
 "nbformat_minor": 5
}

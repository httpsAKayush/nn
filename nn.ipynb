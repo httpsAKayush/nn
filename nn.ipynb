{
 "cells": [
  {
   "cell_type": "code",
   "execution_count": 1,
   "id": "56d0916b-2c9f-4b48-abd2-6e0b82ebd16b",
   "metadata": {},
   "outputs": [],
   "source": [
    "import math\n",
    "import numpy as np\n",
    "import matplotlib.pyplot as plt\n",
    "%matplotlib inline"
   ]
  },
  {
   "cell_type": "code",
   "execution_count": 2,
   "id": "efde50d4-8f3e-4066-81cb-baf0575a62bb",
   "metadata": {},
   "outputs": [],
   "source": [
    "def f(x):\n",
    "    return 3*x**2 - 4*x + 5"
   ]
  },
  {
   "cell_type": "code",
   "execution_count": 3,
   "id": "789dfd38-5f9a-4caf-9e0f-82d4267c1c65",
   "metadata": {},
   "outputs": [
    {
     "data": {
      "text/plain": [
       "20.0"
      ]
     },
     "execution_count": 3,
     "metadata": {},
     "output_type": "execute_result"
    }
   ],
   "source": [
    "f(3.0)"
   ]
  },
  {
   "cell_type": "code",
   "execution_count": 4,
   "id": "1e394171-a141-4f1c-ac34-6bec01a940a4",
   "metadata": {},
   "outputs": [
    {
     "data": {
      "text/plain": [
       "array([100.    ,  91.6875,  83.75  ,  76.1875,  69.    ,  62.1875,\n",
       "        55.75  ,  49.6875,  44.    ,  38.6875,  33.75  ,  29.1875,\n",
       "        25.    ,  21.1875,  17.75  ,  14.6875,  12.    ,   9.6875,\n",
       "         7.75  ,   6.1875,   5.    ,   4.1875,   3.75  ,   3.6875,\n",
       "         4.    ,   4.6875,   5.75  ,   7.1875,   9.    ,  11.1875,\n",
       "        13.75  ,  16.6875,  20.    ,  23.6875,  27.75  ,  32.1875,\n",
       "        37.    ,  42.1875,  47.75  ,  53.6875])"
      ]
     },
     "execution_count": 4,
     "metadata": {},
     "output_type": "execute_result"
    }
   ],
   "source": [
    "xs = np.arange(-5, 5, 0.25)\n",
    "ys = f(xs)\n",
    "ys"
   ]
  },
  {
   "cell_type": "code",
   "execution_count": 5,
   "id": "93331023-8a51-4e0a-8955-ea24ddce9fc1",
   "metadata": {},
   "outputs": [
    {
     "data": {
      "text/plain": [
       "[<matplotlib.lines.Line2D at 0x74e75d0f9b80>]"
      ]
     },
     "execution_count": 5,
     "metadata": {},
     "output_type": "execute_result"
    }
   ],
   "source": [
    "plt.plot(xs, ys)"
   ]
  },
  {
   "cell_type": "code",
   "execution_count": 6,
   "id": "3a66622b-af5f-414b-b780-c3f07384b162",
   "metadata": {},
   "outputs": [
    {
     "data": {
      "text/plain": [
       "20.00000140000003"
      ]
     },
     "execution_count": 6,
     "metadata": {},
     "output_type": "execute_result"
    }
   ],
   "source": [
    "h = 0.0000001\n",
    "x = 3\n",
    "f(x+h)"
   ]
  },
  {
   "cell_type": "code",
   "execution_count": 7,
   "id": "8ab884b7-df13-4916-b93d-e8a11206d26c",
   "metadata": {},
   "outputs": [
    {
     "data": {
      "text/plain": [
       "14.000000305713911"
      ]
     },
     "execution_count": 7,
     "metadata": {},
     "output_type": "execute_result"
    }
   ],
   "source": [
    "h = 0.0000001  #small increment\n",
    "#slope = (y(added increment) - y(initial))/ amt of increment in x\n",
    "(f(x + h) - f(x))/h"
   ]
  },
  {
   "cell_type": "code",
   "execution_count": 8,
   "id": "57d8c33e-080f-41b8-ac21-94ff414dde75",
   "metadata": {},
   "outputs": [
    {
     "data": {
      "text/plain": [
       "-22.00000039920269"
      ]
     },
     "execution_count": 8,
     "metadata": {},
     "output_type": "execute_result"
    }
   ],
   "source": [
    "h = 0.00000001\n",
    "x = -3\n",
    "(f(x+h) - f(x))/h"
   ]
  },
  {
   "cell_type": "code",
   "execution_count": 9,
   "id": "689fabb3-dc8a-49d3-b12d-aa95a6029e2c",
   "metadata": {},
   "outputs": [
    {
     "data": {
      "text/plain": [
       "0.0"
      ]
     },
     "execution_count": 9,
     "metadata": {},
     "output_type": "execute_result"
    }
   ],
   "source": [
    "h = 0.00000001\n",
    "x = 2/3\n",
    "(f(x+h) - f(x))/h"
   ]
  },
  {
   "cell_type": "code",
   "execution_count": 10,
   "id": "9fea97f3-ac09-449a-a12e-a9375bd036f4",
   "metadata": {},
   "outputs": [
    {
     "name": "stdout",
     "output_type": "stream",
     "text": [
      "4.0\n"
     ]
    }
   ],
   "source": [
    "# lets get more complex\n",
    "a = 2.0\n",
    "b = -3.0\n",
    "c = 10.0\n",
    "d = a*b + c\n",
    "print(d)"
   ]
  },
  {
   "cell_type": "code",
   "execution_count": 11,
   "id": "7f40d9d5-aefd-4c31-b2b2-36da10b9cc5c",
   "metadata": {},
   "outputs": [
    {
     "name": "stdout",
     "output_type": "stream",
     "text": [
      "d1:  4.0\n",
      "d2:  4.0001\n",
      "slope:  0.9999999999976694\n"
     ]
    }
   ],
   "source": [
    "h = 0.0001\n",
    "\n",
    "#inputs\n",
    "a = 2.0\n",
    "b = -3.0\n",
    "c = 10.0\n",
    "\n",
    "d1 = a*b + c\n",
    "#a += h\n",
    "#b+=h\n",
    "c+=h\n",
    "d2 = a*b +c\n",
    "print(\"d1: \",d1)\n",
    "print(\"d2: \",d2)\n",
    "print('slope: ',( (d2) - (d1) )/h)"
   ]
  },
  {
   "cell_type": "code",
   "execution_count": 12,
   "id": "b4210829-78fd-403a-84aa-5429ee524cd7",
   "metadata": {},
   "outputs": [
    {
     "data": {
      "text/plain": [
       "Value(data=-8.0)"
      ]
     },
     "execution_count": 12,
     "metadata": {},
     "output_type": "execute_result"
    }
   ],
   "source": [
    "# value object\n",
    "# takes a single scalar value that it wraps and keep tracks off\n",
    "class Value:\n",
    "    def __init__(self,data, _children=(),_op='', label=''):\n",
    "        self.data = data\n",
    "        self._prev = set(_children)\n",
    "        self._op = _op\n",
    "        self.label= label\n",
    "        \n",
    "    def __repr__(self):       # wrapper function\n",
    "        return f\"Value(data={self.data})\"\n",
    "    \n",
    "    def __add__(self, other):\n",
    "        out = Value(self.data + other.data, (self,other), '+')\n",
    "        return out\n",
    "    \n",
    "    def __mul__(self, other):\n",
    "        out = Value(self.data * other.data, (self,other), '*')\n",
    "        return out\n",
    "a = Value(2.0, label = 'a')\n",
    "b = Value(-3.0, label='b')\n",
    "c = Value(10,label='c')\n",
    "#a, b\n",
    "#a + b #add two value objects #if we use this #python will internally call a.__add__(b)\n",
    "e = a*b; e.label = 'e'\n",
    "d = e+c; d.label = 'd'\n",
    "f = Value(-2.0,label='f')\n",
    "L=d*f\n",
    "L"
   ]
  },
  {
   "cell_type": "code",
   "execution_count": 13,
   "id": "32f961f4-0435-4b30-b082-18b2035c01c1",
   "metadata": {},
   "outputs": [
    {
     "data": {
      "text/plain": [
       "{Value(data=-6.0), Value(data=10)}"
      ]
     },
     "execution_count": 13,
     "metadata": {},
     "output_type": "execute_result"
    }
   ],
   "source": [
    "d._prev"
   ]
  },
  {
   "cell_type": "code",
   "execution_count": 14,
   "id": "6db7f051-6ea5-4c1c-8b43-97db1c0b5d16",
   "metadata": {},
   "outputs": [
    {
     "name": "stdout",
     "output_type": "stream",
     "text": [
      "Requirement already satisfied: graphviz in /home/zer0/anaconda3/lib/python3.12/site-packages (0.21)\n"
     ]
    }
   ],
   "source": [
    "!pip install graphviz\n",
    "\n",
    "from graphviz import Digraph\n",
    "\n",
    "def trace(root):\n",
    "    #builds a set of all nodes and edeges in a graph\n",
    "    nodes, edges = set(), set()\n",
    "    def build(v):\n",
    "        if v not in nodes:\n",
    "            nodes.add(v)\n",
    "            for child in v._prev:\n",
    "                edges.add((child,v))\n",
    "                build(child)\n",
    "    build(root)\n",
    "    return nodes, edges\n",
    "\n",
    "def draw_dot(root):\n",
    "    dot = Digraph(format='svg', graph_attr={'rankdir': 'LR'})  #LR = left to right\n",
    "    nodes, edges = trace(root)\n",
    "    for n in nodes:\n",
    "        uid = str(id(n))\n",
    "        #for any value in the graph, create a rectangular ('record') node for it\n",
    "        dot.node(name = uid, label = \"{ data %.4f }\" % (n.data, ), shape = 'record')\n",
    "        if n._op:\n",
    "            # if thid value is a result of some operation , create an op node for it\n",
    "            dot.node(name = uid + n._op, label = n._op)\n",
    "            # and connect this node to it\n",
    "            dot.edge(uid + n._op, uid)\n",
    "        for n1,n2 in edges:\n",
    "            # connect n1 to the op node of n2\n",
    "            dot.edge(str(id(n1)), str(id(n2)) + n2._op)\n",
    "        return dot"
   ]
  },
  {
   "cell_type": "code",
   "execution_count": 15,
   "id": "2e0debbc-f490-4556-8e96-0b5422efde08",
   "metadata": {},
   "outputs": [
    {
     "data": {
      "image/svg+xml": [
       "<?xml version=\"1.0\" encoding=\"UTF-8\" standalone=\"no\"?>\n",
       "<!DOCTYPE svg PUBLIC \"-//W3C//DTD SVG 1.1//EN\"\n",
       " \"http://www.w3.org/Graphics/SVG/1.1/DTD/svg11.dtd\">\n",
       "<!-- Generated by graphviz version 12.2.1 (0)\n",
       " -->\n",
       "<!-- Pages: 1 -->\n",
       "<svg width=\"627pt\" height=\"314pt\"\n",
       " viewBox=\"0.00 0.00 626.53 314.00\" xmlns=\"http://www.w3.org/2000/svg\" xmlns:xlink=\"http://www.w3.org/1999/xlink\">\n",
       "<g id=\"graph0\" class=\"graph\" transform=\"scale(1 1) rotate(0) translate(4 310)\">\n",
       "<polygon fill=\"white\" stroke=\"none\" points=\"-4,4 -4,-310 622.53,-310 622.53,4 -4,4\"/>\n",
       "<!-- 128537049250416 -->\n",
       "<g id=\"node1\" class=\"node\">\n",
       "<title>128537049250416</title>\n",
       "<polygon fill=\"none\" stroke=\"black\" points=\"512.53,-27 512.53,-63 618.53,-63 618.53,-27 512.53,-27\"/>\n",
       "<text text-anchor=\"middle\" x=\"565.53\" y=\"-40.7\" font-family=\"Times,serif\" font-size=\"14.00\">data &#45;8.0000</text>\n",
       "</g>\n",
       "<!-- 128537049250416* -->\n",
       "<g id=\"node2\" class=\"node\">\n",
       "<title>128537049250416*</title>\n",
       "<ellipse fill=\"none\" stroke=\"black\" cx=\"362.19\" cy=\"-45\" rx=\"27\" ry=\"18\"/>\n",
       "<text text-anchor=\"middle\" x=\"362.19\" y=\"-40.33\" font-family=\"Times,serif\" font-size=\"14.00\">*</text>\n",
       "</g>\n",
       "<!-- 128537049250416*&#45;&gt;128537049250416 -->\n",
       "<g id=\"edge1\" class=\"edge\">\n",
       "<title>128537049250416*&#45;&gt;128537049250416</title>\n",
       "<path fill=\"none\" stroke=\"black\" d=\"M389.51,-45C417.62,-45 463.21,-45 500.81,-45\"/>\n",
       "<polygon fill=\"black\" stroke=\"black\" points=\"500.68,-48.5 510.68,-45 500.68,-41.5 500.68,-48.5\"/>\n",
       "</g>\n",
       "<!-- 128537047871232 -->\n",
       "<g id=\"node3\" class=\"node\">\n",
       "<title>128537047871232</title>\n",
       "<ellipse fill=\"none\" stroke=\"black\" cx=\"105.92\" cy=\"-180\" rx=\"105.92\" ry=\"18\"/>\n",
       "<text text-anchor=\"middle\" x=\"105.92\" y=\"-175.32\" font-family=\"Times,serif\" font-size=\"14.00\">128537047871232</text>\n",
       "</g>\n",
       "<!-- 128537047872960+ -->\n",
       "<g id=\"node4\" class=\"node\">\n",
       "<title>128537047872960+</title>\n",
       "<ellipse fill=\"none\" stroke=\"black\" cx=\"362.19\" cy=\"-153\" rx=\"114.34\" ry=\"18\"/>\n",
       "<text text-anchor=\"middle\" x=\"362.19\" y=\"-148.32\" font-family=\"Times,serif\" font-size=\"14.00\">128537047872960+</text>\n",
       "</g>\n",
       "<!-- 128537047871232&#45;&gt;128537047872960+ -->\n",
       "<g id=\"edge2\" class=\"edge\">\n",
       "<title>128537047871232&#45;&gt;128537047872960+</title>\n",
       "<path fill=\"none\" stroke=\"black\" d=\"M196.93,-170.44C215.67,-168.45 235.6,-166.34 254.88,-164.29\"/>\n",
       "<polygon fill=\"black\" stroke=\"black\" points=\"255.06,-167.79 264.63,-163.25 254.32,-160.83 255.06,-167.79\"/>\n",
       "</g>\n",
       "<!-- 128537047868400 -->\n",
       "<g id=\"node5\" class=\"node\">\n",
       "<title>128537047868400</title>\n",
       "<ellipse fill=\"none\" stroke=\"black\" cx=\"105.92\" cy=\"-288\" rx=\"105.92\" ry=\"18\"/>\n",
       "<text text-anchor=\"middle\" x=\"105.92\" y=\"-283.32\" font-family=\"Times,serif\" font-size=\"14.00\">128537047868400</text>\n",
       "</g>\n",
       "<!-- 128537047871232* -->\n",
       "<g id=\"node6\" class=\"node\">\n",
       "<title>128537047871232*</title>\n",
       "<ellipse fill=\"none\" stroke=\"black\" cx=\"362.19\" cy=\"-261\" rx=\"110.66\" ry=\"18\"/>\n",
       "<text text-anchor=\"middle\" x=\"362.19\" y=\"-256.32\" font-family=\"Times,serif\" font-size=\"14.00\">128537047871232*</text>\n",
       "</g>\n",
       "<!-- 128537047868400&#45;&gt;128537047871232* -->\n",
       "<g id=\"edge3\" class=\"edge\">\n",
       "<title>128537047868400&#45;&gt;128537047871232*</title>\n",
       "<path fill=\"none\" stroke=\"black\" d=\"M196.93,-278.44C216.36,-276.38 237.07,-274.18 257,-272.06\"/>\n",
       "<polygon fill=\"black\" stroke=\"black\" points=\"257.22,-275.56 266.79,-271.02 256.48,-268.6 257.22,-275.56\"/>\n",
       "</g>\n",
       "<!-- 128537047873008 -->\n",
       "<g id=\"node7\" class=\"node\">\n",
       "<title>128537047873008</title>\n",
       "<ellipse fill=\"none\" stroke=\"black\" cx=\"105.92\" cy=\"-72\" rx=\"105.92\" ry=\"18\"/>\n",
       "<text text-anchor=\"middle\" x=\"105.92\" y=\"-67.33\" font-family=\"Times,serif\" font-size=\"14.00\">128537047873008</text>\n",
       "</g>\n",
       "<!-- 128537047873008&#45;&gt;128537049250416* -->\n",
       "<g id=\"edge4\" class=\"edge\">\n",
       "<title>128537047873008&#45;&gt;128537049250416*</title>\n",
       "<path fill=\"none\" stroke=\"black\" d=\"M196.93,-62.44C240.63,-57.8 290.75,-52.48 324.02,-48.95\"/>\n",
       "<polygon fill=\"black\" stroke=\"black\" points=\"323.97,-52.47 333.54,-47.94 323.23,-45.51 323.97,-52.47\"/>\n",
       "</g>\n",
       "<!-- 128537047871280 -->\n",
       "<g id=\"node8\" class=\"node\">\n",
       "<title>128537047871280</title>\n",
       "<ellipse fill=\"none\" stroke=\"black\" cx=\"105.92\" cy=\"-234\" rx=\"105.92\" ry=\"18\"/>\n",
       "<text text-anchor=\"middle\" x=\"105.92\" y=\"-229.32\" font-family=\"Times,serif\" font-size=\"14.00\">128537047871280</text>\n",
       "</g>\n",
       "<!-- 128537047871280&#45;&gt;128537047871232* -->\n",
       "<g id=\"edge5\" class=\"edge\">\n",
       "<title>128537047871280&#45;&gt;128537047871232*</title>\n",
       "<path fill=\"none\" stroke=\"black\" d=\"M196.93,-243.56C216.36,-245.62 237.07,-247.82 257,-249.94\"/>\n",
       "<polygon fill=\"black\" stroke=\"black\" points=\"256.48,-253.4 266.79,-250.98 257.22,-246.44 256.48,-253.4\"/>\n",
       "</g>\n",
       "<!-- 128537047871376 -->\n",
       "<g id=\"node9\" class=\"node\">\n",
       "<title>128537047871376</title>\n",
       "<ellipse fill=\"none\" stroke=\"black\" cx=\"105.92\" cy=\"-126\" rx=\"105.92\" ry=\"18\"/>\n",
       "<text text-anchor=\"middle\" x=\"105.92\" y=\"-121.33\" font-family=\"Times,serif\" font-size=\"14.00\">128537047871376</text>\n",
       "</g>\n",
       "<!-- 128537047871376&#45;&gt;128537047872960+ -->\n",
       "<g id=\"edge6\" class=\"edge\">\n",
       "<title>128537047871376&#45;&gt;128537047872960+</title>\n",
       "<path fill=\"none\" stroke=\"black\" d=\"M196.93,-135.56C215.67,-137.55 235.6,-139.66 254.88,-141.71\"/>\n",
       "<polygon fill=\"black\" stroke=\"black\" points=\"254.32,-145.17 264.63,-142.75 255.06,-138.21 254.32,-145.17\"/>\n",
       "</g>\n",
       "<!-- 128537047872960 -->\n",
       "<g id=\"node10\" class=\"node\">\n",
       "<title>128537047872960</title>\n",
       "<ellipse fill=\"none\" stroke=\"black\" cx=\"105.92\" cy=\"-18\" rx=\"105.92\" ry=\"18\"/>\n",
       "<text text-anchor=\"middle\" x=\"105.92\" y=\"-13.32\" font-family=\"Times,serif\" font-size=\"14.00\">128537047872960</text>\n",
       "</g>\n",
       "<!-- 128537047872960&#45;&gt;128537049250416* -->\n",
       "<g id=\"edge7\" class=\"edge\">\n",
       "<title>128537047872960&#45;&gt;128537049250416*</title>\n",
       "<path fill=\"none\" stroke=\"black\" d=\"M196.93,-27.56C240.63,-32.2 290.75,-37.52 324.02,-41.05\"/>\n",
       "<polygon fill=\"black\" stroke=\"black\" points=\"323.23,-44.49 333.54,-42.06 323.97,-37.53 323.23,-44.49\"/>\n",
       "</g>\n",
       "</g>\n",
       "</svg>\n"
      ],
      "text/plain": [
       "<graphviz.graphs.Digraph at 0x74e75d141f70>"
      ]
     },
     "execution_count": 15,
     "metadata": {},
     "output_type": "execute_result"
    }
   ],
   "source": [
    "draw_dot(L)"
   ]
  },
  {
   "cell_type": "code",
   "execution_count": null,
   "id": "80c0ac8d-7ada-479a-aaf5-fe308e88149e",
   "metadata": {},
   "outputs": [],
   "source": []
  }
 ],
 "metadata": {
  "kernelspec": {
   "display_name": "Python 3 (ipykernel)",
   "language": "python",
   "name": "python3"
  },
  "language_info": {
   "codemirror_mode": {
    "name": "ipython",
    "version": 3
   },
   "file_extension": ".py",
   "mimetype": "text/x-python",
   "name": "python",
   "nbconvert_exporter": "python",
   "pygments_lexer": "ipython3",
   "version": "3.12.7"
  }
 },
 "nbformat": 4,
 "nbformat_minor": 5
}

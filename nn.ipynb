{
 "cells": [
  {
   "cell_type": "code",
   "execution_count": 1,
   "id": "56d0916b-2c9f-4b48-abd2-6e0b82ebd16b",
   "metadata": {},
   "outputs": [],
   "source": [
    "import math\n",
    "import numpy as np\n",
    "import matplotlib.pyplot as plt\n",
    "%matplotlib inline"
   ]
  },
  {
   "cell_type": "code",
   "execution_count": 2,
   "id": "efde50d4-8f3e-4066-81cb-baf0575a62bb",
   "metadata": {},
   "outputs": [],
   "source": [
    "def f(x):\n",
    "    return 3*x**2 - 4*x + 5"
   ]
  },
  {
   "cell_type": "code",
   "execution_count": 3,
   "id": "789dfd38-5f9a-4caf-9e0f-82d4267c1c65",
   "metadata": {},
   "outputs": [
    {
     "data": {
      "text/plain": [
       "20.0"
      ]
     },
     "execution_count": 3,
     "metadata": {},
     "output_type": "execute_result"
    }
   ],
   "source": [
    "f(3.0)"
   ]
  },
  {
   "cell_type": "code",
   "execution_count": 4,
   "id": "1e394171-a141-4f1c-ac34-6bec01a940a4",
   "metadata": {},
   "outputs": [
    {
     "data": {
      "text/plain": [
       "array([100.    ,  91.6875,  83.75  ,  76.1875,  69.    ,  62.1875,\n",
       "        55.75  ,  49.6875,  44.    ,  38.6875,  33.75  ,  29.1875,\n",
       "        25.    ,  21.1875,  17.75  ,  14.6875,  12.    ,   9.6875,\n",
       "         7.75  ,   6.1875,   5.    ,   4.1875,   3.75  ,   3.6875,\n",
       "         4.    ,   4.6875,   5.75  ,   7.1875,   9.    ,  11.1875,\n",
       "        13.75  ,  16.6875,  20.    ,  23.6875,  27.75  ,  32.1875,\n",
       "        37.    ,  42.1875,  47.75  ,  53.6875])"
      ]
     },
     "execution_count": 4,
     "metadata": {},
     "output_type": "execute_result"
    }
   ],
   "source": [
    "xs = np.arange(-5, 5, 0.25)\n",
    "ys = f(xs)\n",
    "ys"
   ]
  },
  {
   "cell_type": "code",
   "execution_count": 5,
   "id": "93331023-8a51-4e0a-8955-ea24ddce9fc1",
   "metadata": {},
   "outputs": [
    {
     "data": {
      "text/plain": [
       "[<matplotlib.lines.Line2D at 0x75d025a1d010>]"
      ]
     },
     "execution_count": 5,
     "metadata": {},
     "output_type": "execute_result"
    }
   ],
   "source": [
    "plt.plot(xs, ys)"
   ]
  },
  {
   "cell_type": "code",
   "execution_count": 6,
   "id": "3a66622b-af5f-414b-b780-c3f07384b162",
   "metadata": {},
   "outputs": [
    {
     "data": {
      "text/plain": [
       "20.00000140000003"
      ]
     },
     "execution_count": 6,
     "metadata": {},
     "output_type": "execute_result"
    }
   ],
   "source": [
    "h = 0.0000001\n",
    "x = 3\n",
    "f(x+h)"
   ]
  },
  {
   "cell_type": "code",
   "execution_count": 7,
   "id": "8ab884b7-df13-4916-b93d-e8a11206d26c",
   "metadata": {},
   "outputs": [
    {
     "data": {
      "text/plain": [
       "14.000000305713911"
      ]
     },
     "execution_count": 7,
     "metadata": {},
     "output_type": "execute_result"
    }
   ],
   "source": [
    "h = 0.0000001  #small increment\n",
    "#slope = (y(added increment) - y(initial))/ amt of increment in x\n",
    "(f(x + h) - f(x))/h"
   ]
  },
  {
   "cell_type": "code",
   "execution_count": 8,
   "id": "57d8c33e-080f-41b8-ac21-94ff414dde75",
   "metadata": {},
   "outputs": [
    {
     "data": {
      "text/plain": [
       "-22.00000039920269"
      ]
     },
     "execution_count": 8,
     "metadata": {},
     "output_type": "execute_result"
    }
   ],
   "source": [
    "h = 0.00000001\n",
    "x = -3\n",
    "(f(x+h) - f(x))/h"
   ]
  },
  {
   "cell_type": "code",
   "execution_count": 9,
   "id": "689fabb3-dc8a-49d3-b12d-aa95a6029e2c",
   "metadata": {},
   "outputs": [
    {
     "data": {
      "text/plain": [
       "0.0"
      ]
     },
     "execution_count": 9,
     "metadata": {},
     "output_type": "execute_result"
    }
   ],
   "source": [
    "h = 0.00000001\n",
    "x = 2/3\n",
    "(f(x+h) - f(x))/h"
   ]
  },
  {
   "cell_type": "code",
   "execution_count": 10,
   "id": "9fea97f3-ac09-449a-a12e-a9375bd036f4",
   "metadata": {},
   "outputs": [
    {
     "name": "stdout",
     "output_type": "stream",
     "text": [
      "4.0\n"
     ]
    }
   ],
   "source": [
    "# lets get more complex\n",
    "a = 2.0\n",
    "b = -3.0\n",
    "c = 10.0\n",
    "d = a*b + c\n",
    "print(d)"
   ]
  },
  {
   "cell_type": "code",
   "execution_count": 11,
   "id": "7f40d9d5-aefd-4c31-b2b2-36da10b9cc5c",
   "metadata": {},
   "outputs": [
    {
     "name": "stdout",
     "output_type": "stream",
     "text": [
      "d1:  4.0\n",
      "d2:  4.0001\n",
      "slope:  0.9999999999976694\n"
     ]
    }
   ],
   "source": [
    "h = 0.0001\n",
    "\n",
    "#inputs\n",
    "a = 2.0\n",
    "b = -3.0\n",
    "c = 10.0\n",
    "\n",
    "d1 = a*b + c\n",
    "#a += h\n",
    "#b+=h\n",
    "c+=h\n",
    "d2 = a*b +c\n",
    "print(\"d1: \",d1)\n",
    "print(\"d2: \",d2)\n",
    "print('slope: ',( (d2) - (d1) )/h)"
   ]
  },
  {
   "cell_type": "code",
   "execution_count": 91,
   "id": "b4210829-78fd-403a-84aa-5429ee524cd7",
   "metadata": {},
   "outputs": [
    {
     "data": {
      "text/plain": [
       "Value(data=-8.0)"
      ]
     },
     "execution_count": 91,
     "metadata": {},
     "output_type": "execute_result"
    }
   ],
   "source": [
    "# value object\n",
    "# takes a single scalar value that it wraps and keep tracks off\n",
    "class Value:\n",
    "    def __init__(self,data, _children=(),_op='', label=''):\n",
    "        self.data = data\n",
    "        self.grad = 0.0\n",
    "        self._backward = lambda: None\n",
    "        self._prev = set(_children)\n",
    "        self._op = _op\n",
    "        self.label= label\n",
    "        \n",
    "    def __repr__(self):       # wrapper function\n",
    "        return f\"Value(data={self.data})\"\n",
    "    \n",
    "    def __add__(self, other):\n",
    "        out = Value(self.data + other.data, (self,other), '+')\n",
    "        \n",
    "        def _backward():\n",
    "            self.grad += 1.0 * out.grad\n",
    "            other.grad += 1.0 * out.grad\n",
    "        out._backward =  _backward   #we try to save these fxn not call the fxn bcz these fxn's return none, just want to store the fxn\n",
    "        return out\n",
    "    \n",
    "    def __mul__(self, other):\n",
    "        out = Value(self.data * other.data, (self,other), '*')\n",
    "\n",
    "        def _backward():\n",
    "            self.grad += other.data * out.grad\n",
    "            other.grad += self.data * out.grad\n",
    "\n",
    "        out._backward = _backward\n",
    "        return out\n",
    "\n",
    "    def tanh(self):\n",
    "        n = self.data\n",
    "        t = (math.exp(2*n)-1) / (math.exp(2*n) +1)\n",
    "        out = Value(t,(self,),'tanh')\n",
    "\n",
    "        def _backward():\n",
    "            self.grad += (1 - t**2) * out.grad\n",
    "        out._backward = _backward\n",
    "            \n",
    "        return out \n",
    "\n",
    "    def backward(self):\n",
    "        # made a graph of forward prop\n",
    "        topo = []\n",
    "        visited =set()\n",
    "        def build_topo(v):\n",
    "            if v not in visited:\n",
    "                visited.add(v)\n",
    "                for child in v._prev:\n",
    "                    build_topo(child)\n",
    "                topo.append(v)\n",
    "        build_topo(self)\n",
    "        \n",
    "        # set grad for output\n",
    "        self.grad = 1.0\n",
    "\n",
    "        #call _backward() in reverse of topo[]\n",
    "        for node in reversed(topo):\n",
    "            node._backward()\n",
    "        \n",
    "a = Value(2.0, label = 'a')\n",
    "b = Value(-3.0, label='b')\n",
    "c = Value(10,label='c')\n",
    "#a, b\n",
    "#a + b #add two value objects #if we use this #python will internally call a.__add__(b)\n",
    "e = a*b; e.label = 'e'\n",
    "d = e+c; d.label = 'd'\n",
    "f = Value(-2.0,label='f')\n",
    "L=d*f\n",
    "L"
   ]
  },
  {
   "cell_type": "code",
   "execution_count": 13,
   "id": "32f961f4-0435-4b30-b082-18b2035c01c1",
   "metadata": {},
   "outputs": [
    {
     "data": {
      "text/plain": [
       "{Value(data=-6.0), Value(data=10)}"
      ]
     },
     "execution_count": 13,
     "metadata": {},
     "output_type": "execute_result"
    }
   ],
   "source": [
    "d._prev"
   ]
  },
  {
   "cell_type": "raw",
   "id": "37f20044-909e-42d4-a27d-b30df81c161c",
   "metadata": {},
   "source": [
    "dd/dc = 1.0\n",
    "dd/de = 1.0\n",
    "d = c + e\n",
    "\n",
    "Want:\n",
    "dL/dc = dL/dd * dd/dc\n",
    "\n",
    "Know:\n",
    "dL/dd\n",
    "dd/dc"
   ]
  },
  {
   "cell_type": "code",
   "execution_count": 18,
   "id": "2e0debbc-f490-4556-8e96-0b5422efde08",
   "metadata": {},
   "outputs": [
    {
     "name": "stdout",
     "output_type": "stream",
     "text": [
      "3.9999999999995595\n"
     ]
    }
   ],
   "source": [
    "def lol():\n",
    "    h = 0.001\n",
    "\n",
    "    a = Value(2.0,label='a')\n",
    "    b= Value(-3.0,label='b')\n",
    "    c= Value(10.0,label='c')\n",
    "    e=a*b; e.label='e'\n",
    "    d=e+c; d.label='d'\n",
    "    f=Value(-2.0,label='f')\n",
    "    L=d*f; L.label='L'\n",
    "    L1=L.data\n",
    "\n",
    "    a = Value(2.0,label='a')\n",
    "    b= Value(-3.0,label='b')\n",
    "    c= Value(10.0,label='c')\n",
    "    e=a*b; e.label='e'\n",
    "    d=e+c; d.label='d'\n",
    "    f=Value(-2.0 + h,label='f')\n",
    "    L=d*f; L.label='L'\n",
    "    L2=L.data\n",
    "\n",
    "    print((L2-L1)/h)\n",
    "\n",
    "lol()\n",
    "    "
   ]
  },
  {
   "cell_type": "code",
   "execution_count": 85,
   "id": "80c0ac8d-7ada-479a-aaf5-fe308e88149e",
   "metadata": {},
   "outputs": [],
   "source": [
    "# input x1,x2\n",
    "x1 = Value(2.0)\n",
    "x2 = Value(0.0)\n",
    "# weights \n",
    "w1 = Value(-3.0)\n",
    "w2 = Value(1.0)\n",
    "#bias of the neuron\n",
    "b = Value(6.8813735870195432)\n",
    "#neuron = x1w1 + x2w2 + b\n",
    "x1w1 = x1*w1\n",
    "x2w2 = x2*w2\n",
    "x1w1x2w2 = x1w1 + x2w2\n",
    "n = x1w1x2w2 + b\n",
    "#activation fxn\n",
    "o = n.tanh()  #exp(2z)-1 / exp(2z)+1"
   ]
  },
  {
   "cell_type": "code",
   "execution_count": 86,
   "id": "1c218954-2b75-48cb-a45b-d1dd87ea25f3",
   "metadata": {},
   "outputs": [],
   "source": [
    "o.backward()"
   ]
  },
  {
   "cell_type": "code",
   "execution_count": 88,
   "id": "17d8d882-e7e5-414d-b7dc-da11b6f0d531",
   "metadata": {},
   "outputs": [
    {
     "name": "stdout",
     "output_type": "stream",
     "text": [
      "Grad: \n",
      "1.0\n",
      "0.4999999999999999\n",
      "0.4999999999999999\n",
      "0.4999999999999999\n",
      "0.4999999999999999\n",
      "0.4999999999999999\n",
      "-1.4999999999999996\n",
      "0.4999999999999999\n",
      "\n",
      "Data: \n",
      "0.7071067811865476\n",
      "0.8813735870195432\n",
      "-6.0\n",
      "6.881373587019543\n",
      "-6.0\n",
      "0.0\n",
      "2.0\n",
      "0.0\n"
     ]
    }
   ],
   "source": [
    "print('Grad: ')\n",
    "print(o.grad)\n",
    "print(n.grad)\n",
    "print(x1w1x2w2.grad)\n",
    "print(b.grad)\n",
    "print(x1w1.grad)\n",
    "print(x2w2.grad)\n",
    "print(x1.grad)\n",
    "print(x2.grad)\n",
    "print('')\n",
    "print('Data: ')\n",
    "print(o.data)\n",
    "print(n.data)\n",
    "print(x1w1x2w2.data)\n",
    "print(b.data)\n",
    "print(x1w1.data)\n",
    "print(x2w2.data)\n",
    "print(x1.data)\n",
    "print(x2.data)"
   ]
  },
  {
   "cell_type": "code",
   "execution_count": 76,
   "id": "42da3829-9eec-4a62-ae38-df2934b76306",
   "metadata": {},
   "outputs": [
    {
     "data": {
      "text/plain": [
       "[Value(data=6.881373587019543),\n",
       " Value(data=0.0),\n",
       " Value(data=1.0),\n",
       " Value(data=0.0),\n",
       " Value(data=-3.0),\n",
       " Value(data=2.0),\n",
       " Value(data=-6.0),\n",
       " Value(data=-6.0),\n",
       " Value(data=0.8813735870195432),\n",
       " Value(data=0.7071067811865476)]"
      ]
     },
     "execution_count": 76,
     "metadata": {},
     "output_type": "execute_result"
    }
   ],
   "source": [
    "topo = []\n",
    "visited =set()\n",
    "def build_topo(v):\n",
    "    if v not in visited:\n",
    "        visited.add(v)\n",
    "        for child in v._prev:\n",
    "            build_topo(child)\n",
    "        topo.append(v)\n",
    "build_topo(o)\n",
    "topo"
   ]
  },
  {
   "cell_type": "code",
   "execution_count": null,
   "id": "fc80cb56-ba66-4686-bf1a-2b362ec8cee9",
   "metadata": {},
   "outputs": [],
   "source": []
  },
  {
   "cell_type": "code",
   "execution_count": 70,
   "id": "a7bffa2a-c362-4883-b7bd-c2264cfe4d92",
   "metadata": {},
   "outputs": [],
   "source": [
    "o.grad= 1.0\n",
    "o._backward()"
   ]
  },
  {
   "cell_type": "code",
   "execution_count": 71,
   "id": "ed271f63-7007-42a2-ade7-d254622457d4",
   "metadata": {},
   "outputs": [
    {
     "data": {
      "text/plain": [
       "0.4999999999999999"
      ]
     },
     "execution_count": 71,
     "metadata": {},
     "output_type": "execute_result"
    }
   ],
   "source": [
    "n.grad"
   ]
  },
  {
   "cell_type": "code",
   "execution_count": 72,
   "id": "75ed7676-3fc9-4dae-b95b-75ba8ea9ac0a",
   "metadata": {},
   "outputs": [
    {
     "data": {
      "text/plain": [
       "0.0"
      ]
     },
     "execution_count": 72,
     "metadata": {},
     "output_type": "execute_result"
    }
   ],
   "source": [
    "x1w1x2w2.grad"
   ]
  },
  {
   "cell_type": "code",
   "execution_count": 73,
   "id": "5da64af5-ce15-48d2-b9cb-ae066af5aece",
   "metadata": {},
   "outputs": [
    {
     "data": {
      "text/plain": [
       "0.4999999999999999"
      ]
     },
     "execution_count": 73,
     "metadata": {},
     "output_type": "execute_result"
    }
   ],
   "source": [
    "n._backward()\n",
    "x1w1x2w2.grad"
   ]
  },
  {
   "cell_type": "code",
   "execution_count": 74,
   "id": "1e58c1db-a48d-4c4e-8b8b-2fd468dec7cb",
   "metadata": {},
   "outputs": [
    {
     "data": {
      "text/plain": [
       "0.4999999999999999"
      ]
     },
     "execution_count": 74,
     "metadata": {},
     "output_type": "execute_result"
    }
   ],
   "source": [
    "b.grad"
   ]
  },
  {
   "cell_type": "code",
   "execution_count": 75,
   "id": "1a887364-0189-49ba-a6b8-68abb264d23d",
   "metadata": {},
   "outputs": [
    {
     "data": {
      "text/plain": [
       "-1.4999999999999996"
      ]
     },
     "execution_count": 75,
     "metadata": {},
     "output_type": "execute_result"
    }
   ],
   "source": [
    "x1w1x2w2._backward()\n",
    "x1w1._backward()\n",
    "x2w2._backward()\n",
    "x1.grad"
   ]
  },
  {
   "cell_type": "code",
   "execution_count": 41,
   "id": "afb92633-3272-4ef3-b33f-7a791768e171",
   "metadata": {},
   "outputs": [],
   "source": [
    "x1.grad = w1.data * x1w1.grad  #chain rule\n",
    "w1.grad = x1.data * x1w1.grad"
   ]
  },
  {
   "cell_type": "code",
   "execution_count": null,
   "id": "4f936052-79ad-4ab2-afe0-e6da86da4f0a",
   "metadata": {},
   "outputs": [],
   "source": []
  },
  {
   "cell_type": "code",
   "execution_count": null,
   "id": "0b218172-d7c4-47e3-9943-8b91867a3c5b",
   "metadata": {},
   "outputs": [],
   "source": []
  },
  {
   "cell_type": "code",
   "execution_count": 40,
   "id": "e57ce16e-4f04-4304-887f-acc37b12f08c",
   "metadata": {},
   "outputs": [],
   "source": [
    "x2.grad = w2.data * x2w2.grad\n",
    "w2.grad = x2.data * x2w2.grad"
   ]
  },
  {
   "cell_type": "code",
   "execution_count": 39,
   "id": "078c295a-2f0b-4cd3-8eb9-1ace53707deb",
   "metadata": {},
   "outputs": [],
   "source": [
    "x1w1.grad = 0.5\n",
    "x2w2.grad=0.5"
   ]
  },
  {
   "cell_type": "code",
   "execution_count": 38,
   "id": "4aee374e-256c-4f1b-99c3-2fa31f0c123a",
   "metadata": {},
   "outputs": [],
   "source": [
    "x1w1x2w2.grad=0.5  #for (+) same as n.grad,  n = x1w1x2w2 + b\n",
    "b.grad=0.5"
   ]
  },
  {
   "cell_type": "code",
   "execution_count": 37,
   "id": "a1b12763-1964-4ccb-97c5-9711907e94bf",
   "metadata": {},
   "outputs": [],
   "source": [
    "n.grad = 0.5  "
   ]
  },
  {
   "cell_type": "code",
   "execution_count": 36,
   "id": "99410009-2fec-4620-a679-c80a8a9a39d1",
   "metadata": {},
   "outputs": [],
   "source": [
    "o.grad=1.0"
   ]
  },
  {
   "cell_type": "code",
   "execution_count": 29,
   "id": "265fddaf-83b0-429e-be10-d148973f68a4",
   "metadata": {},
   "outputs": [
    {
     "data": {
      "text/plain": [
       "0.4999999999999999"
      ]
     },
     "execution_count": 29,
     "metadata": {},
     "output_type": "execute_result"
    }
   ],
   "source": [
    "# o = tanh()\n",
    "# do/dn = 1 - o**2\n",
    "1 - o.data**2  #n.grad   #go up to see how manual backward is going "
   ]
  },
  {
   "cell_type": "code",
   "execution_count": 93,
   "id": "1c68bafe-aa00-4584-ba25-487edfb6148f",
   "metadata": {},
   "outputs": [
    {
     "name": "stdout",
     "output_type": "stream",
     "text": [
      "6.0\n",
      "3.0\n",
      "\n",
      "1.0\n",
      "2.0\n"
     ]
    }
   ],
   "source": [
    "# bug\n",
    "a = Value(3.0)\n",
    "b = a + a  #2a #grad = 2.0  \n",
    "#here self and other is exactly the same so we are overriding with this statement\n",
    "# self.grad = 1.0 * out.grad   #a.grad\n",
    "# other.grad = 1.0 * out.grad  #a.grad\n",
    "\n",
    "b.backward()\n",
    "\n",
    "print(b.data)\n",
    "print(a.data)\n",
    "print('')\n",
    "print(b.grad)\n",
    "print(a.grad)\n",
    "\n",
    "# we can do #self.grad += 1.0 * out.grad\n",
    "            #other.grad += 1.0 * out.grad"
   ]
  },
  {
   "cell_type": "code",
   "execution_count": null,
   "id": "99831440-147f-41f0-960f-cb28b19438d3",
   "metadata": {},
   "outputs": [],
   "source": []
  }
 ],
 "metadata": {
  "kernelspec": {
   "display_name": "Python 3 (ipykernel)",
   "language": "python",
   "name": "python3"
  },
  "language_info": {
   "codemirror_mode": {
    "name": "ipython",
    "version": 3
   },
   "file_extension": ".py",
   "mimetype": "text/x-python",
   "name": "python",
   "nbconvert_exporter": "python",
   "pygments_lexer": "ipython3",
   "version": "3.12.7"
  }
 },
 "nbformat": 4,
 "nbformat_minor": 5
}

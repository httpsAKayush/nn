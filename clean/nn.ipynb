{
 "cells": [
  {
   "cell_type": "code",
   "execution_count": 2,
   "id": "b570f76a-01f7-4c33-9433-396f248cdf18",
   "metadata": {},
   "outputs": [],
   "source": [
    "import math\n",
    "import numpy as np\n",
    "import matplotlib.pyplot as plt\n",
    "%matplotlib inline\n",
    "%run engine.ipynb\n"
   ]
  },
  {
   "cell_type": "code",
   "execution_count": 3,
   "id": "d8d1803e-771e-40c1-af37-d476edb87cc6",
   "metadata": {},
   "outputs": [],
   "source": [
    "import random\n",
    "\n",
    "class Neuron:\n",
    "    def __init__(self,nin):\n",
    "        self.w = [Value(random.uniform(-1,1)) for _ in range(nin)]  #range(2) #[Value(-0.69), Value(0.37)]\n",
    "        self.b = Value(random.uniform(-1,1))\n",
    "\n",
    "\n",
    "    def __call__(self, x):\n",
    "        # w * x + b\n",
    "        \n",
    "        act = sum((wi*xi for wi, xi in zip(self.w, x)), self.b)\n",
    "        out = act.tanh()\n",
    "        return out\n",
    "\n",
    "    def parameters(self):\n",
    "        return self.w + [self.b]\n",
    "\n",
    "class Layer:\n",
    "    def __init__(self, nin, nout):\n",
    "        self.neurons = [Neuron(nin) for _ in range(nout)]\n",
    "\n",
    "    def __call__(self, x):\n",
    "        outs = [n(x) for n in self.neurons]\n",
    "        return outs[0] if len(outs)== 1 else outs\n",
    "\n",
    "    def parameters(self):\n",
    "        return [p for neuron in self.neurons for p in neuron.parameters()]\n",
    "        # params = []\n",
    "        # for neuron in self.neurons:\n",
    "        #     ps = neuron.parameters()\n",
    "        #     params.extend(ps)\n",
    "        # return params\n",
    "        \n",
    "\n",
    "class MLP:\n",
    "    def __init__(self, nin, nouts):\n",
    "        sz = [nin] + nouts\n",
    "        self.layers = [Layer(sz[i], sz[i+1]) for i in range(len(nouts))]\n",
    "\n",
    "    def __call__(self, x):\n",
    "        for layer in self.layers:\n",
    "            x = layer(x)\n",
    "        return x\n",
    "\n",
    "    def parameters(self):\n",
    "        return [p for layer in self.layers for p in layer.parameters()]\n",
    "\n"
   ]
  },
  {
   "cell_type": "code",
   "execution_count": 4,
   "id": "ca63d780-0973-4cea-999a-c232e95286d1",
   "metadata": {},
   "outputs": [],
   "source": [
    "#final\n",
    "xs = [\n",
    "    [2.0,3.0,-1.0],\n",
    "    [3.0,-1.0,0.5],\n",
    "    [0.5,1.0,1.0],\n",
    "    [1.0,1.0,-1.0],\n",
    "]\n",
    "ys = [1.0,-1.0,-1.0,1.0] #desired targets\n",
    "n = MLP(3,[4,4,1])"
   ]
  },
  {
   "cell_type": "code",
   "execution_count": 5,
   "id": "d98d4f07-dacd-406c-91a0-9936d09a16eb",
   "metadata": {},
   "outputs": [
    {
     "name": "stdout",
     "output_type": "stream",
     "text": [
      "0 7.7605960830323975\n",
      "1 7.21910284307103\n",
      "2 7.043804264128693\n",
      "3 6.887508203231934\n",
      "4 6.7043516379517225\n",
      "5 6.478960599346664\n",
      "6 6.202383099569554\n",
      "7 5.875333821160886\n",
      "8 5.515488340154154\n",
      "9 5.156831760658026\n",
      "10 4.832964742500063\n",
      "11 4.559750998865158\n",
      "12 4.335666358403729\n",
      "13 4.1515034537745885\n",
      "14 3.9970247759439474\n",
      "15 3.8634159000581807\n",
      "16 3.743729334257949\n",
      "17 3.632652057081207\n",
      "18 3.5261424430472768\n",
      "19 3.4211229840832567\n"
     ]
    }
   ],
   "source": [
    "#final\n",
    "for k in range(20):\n",
    "    \n",
    "    # forward pass\n",
    "    ypred = [n(x) for x in xs]\n",
    "    loss = sum([(yout - ygt)**2 for ygt, yout in zip(ys, ypred)])\n",
    "\n",
    "    #backward pass\n",
    "    for p in n.parameters():\n",
    "        p.grad=0.0\n",
    "    loss.backward()\n",
    "    \n",
    "    #upgrade    \n",
    "    for p in n.parameters():\n",
    "        p.data += -0.01 * p.grad\n",
    "\n",
    "    print(k,loss.data)"
   ]
  },
  {
   "cell_type": "code",
   "execution_count": null,
   "id": "941d22ad-5c29-4e3c-8ed5-f8390afd2269",
   "metadata": {},
   "outputs": [],
   "source": []
  }
 ],
 "metadata": {
  "kernelspec": {
   "display_name": "Python 3 (ipykernel)",
   "language": "python",
   "name": "python3"
  },
  "language_info": {
   "codemirror_mode": {
    "name": "ipython",
    "version": 3
   },
   "file_extension": ".py",
   "mimetype": "text/x-python",
   "name": "python",
   "nbconvert_exporter": "python",
   "pygments_lexer": "ipython3",
   "version": "3.12.7"
  }
 },
 "nbformat": 4,
 "nbformat_minor": 5
}
